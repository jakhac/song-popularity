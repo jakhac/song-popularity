{
 "metadata": {
  "language_info": {
   "codemirror_mode": {
    "name": "ipython",
    "version": 3
   },
   "file_extension": ".py",
   "mimetype": "text/x-python",
   "name": "python",
   "nbconvert_exporter": "python",
   "pygments_lexer": "ipython3",
   "version": "3.8.3"
  },
  "orig_nbformat": 4,
  "kernelspec": {
   "name": "python383jvsc74a57bd02b3eb31ce1614becdc450ec2390d8c8042f24cf7f310c376c5598f4b488704d2",
   "display_name": "Python 3.8.3 64-bit ('venv': venv)",
   "language": "python"
  }
 },
 "nbformat": 4,
 "nbformat_minor": 2,
 "cells": [
  {
   "cell_type": "code",
   "execution_count": null,
   "metadata": {},
   "outputs": [],
   "source": [
    "import pandas as pd\n",
    "import numpy as np\n",
    "\n",
    "import os\n",
    "import sys\n",
    "from pathlib import Path\n",
    "from dotenv import load_dotenv\n",
    "from typing import List\n",
    "\n",
    "load_dotenv()\n",
    "\n",
    "DATA_PATH = Path(os.getenv(\"DATA_PATH\"))\n",
    "\n",
    "# only for .ipynb because relative imports don't work\n",
    "root_path = (DATA_PATH.parent) \n",
    "os.chdir(str(root_path))\n",
    " \n",
    "import src.database.db_interface as db\n",
    "from sklearn.metrics import accuracy_score, f1_score, precision_score, recall_score\n",
    "from sklearn.model_selection import train_test_split\n",
    "from sklearn.preprocessing import OrdinalEncoder\n",
    "\n",
    "# import models\n",
    "from sklearn.naive_bayes import GaussianNB\n",
    "from sklearn.neighbors import KNeighborsClassifier\n",
    "from sklearn.neural_network import MLPClassifier\n",
    "from sklearn.svm import SVC\n",
    "from sklearn.tree import DecisionTreeClassifier\n",
    "from sklearn.ensemble import RandomForestClassifier\n",
    "\n",
    "meta_genres = [\n",
    "    \"alternative\",\n",
    "    \"blues\",\n",
    "    \"classical\",\n",
    "    \"country\",\n",
    "    \"dance\",\n",
    "    \"electronic\",\n",
    "    \"folk\",\n",
    "    \"pop\",\n",
    "    \"hip hop\",\n",
    "    \"rap\",\n",
    "    \"jazz\",\n",
    "    \"latin\",\n",
    "    \"r&b\",\n",
    "    \"reggae\",\n",
    "    \"rock\",\n",
    "    \"metal\",\n",
    "    \"world\",\n",
    "    \"other\",\n",
    "]"
   ]
  },
  {
   "source": [
    "## Data methods"
   ],
   "cell_type": "markdown",
   "metadata": {}
  },
  {
   "cell_type": "code",
   "execution_count": null,
   "metadata": {},
   "outputs": [],
   "source": [
    "def load_data():\n",
    "    \"\"\"Loads the artist features from the database into a dataframe\n",
    "\n",
    "    Returns:\n",
    "        dataframe: the pd dataframe of the artist features\n",
    "    \"\"\"\n",
    "    cnx, cursor = db.connect_to_db(\"spotify_ds\")\n",
    "\n",
    "    query = \"\"\"\n",
    "        SELECT ag.genre_name, a.followers, a.popularity\n",
    "        FROM artists AS a\n",
    "        INNER JOIN artist_genres AS ag ON a.id == ag.artist_id\n",
    "        INNER JOIN tracks AS t ON t.primary_artist_id == a.id\n",
    "        INNER JOIN lyric_scores AS ls ON ls.song_id == t.id\n",
    "        AND t.release_year >= 2000\n",
    "        GROUP BY a.id;\n",
    "    \"\"\"\n",
    "\n",
    "    return pd.read_sql_query(query, cnx)"
   ]
  },
  {
   "cell_type": "code",
   "execution_count": null,
   "metadata": {},
   "outputs": [],
   "source": [
    "def apply_genres(genre: str) -> List[int]:\n",
    "    new_genre = \"other\"\n",
    "\n",
    "    for g in meta_genres:\n",
    "        if g in genre:\n",
    "            new_genre = g\n",
    "            break\n",
    "\n",
    "    return new_genre\n"
   ]
  },
  {
   "cell_type": "code",
   "execution_count": null,
   "metadata": {},
   "outputs": [],
   "source": [
    "def calculate_metrics(clf, X_test, y_test):\n",
    "    # predict on test set\n",
    "    y_predict = clf.predict(X_test)\n",
    "\n",
    "    # print metrics\n",
    "    print(\"Accuracy: \" + str(round(accuracy_score(y_test, y_predict), 4)))\n",
    "    print(\"F1: \" + str(round(f1_score(y_test, y_predict, average=\"weighted\"), 4)))\n",
    "    print(\"Recall: \" + str(round(recall_score(y_test, y_predict, average=\"weighted\"), 4)))\n",
    "    print(\"Precision: \" + str(round(precision_score(y_test, y_predict, average=\"weighted\"), 4)))\n",
    "    print(\"\\n\")\n",
    "\n",
    "    # check which labels do not appear in prediction\n",
    "    print(f\"Contained predictions: {set(y_predict)}\")\n",
    "    print(f\"Contained tests: {set(y_test)}\")\n",
    "    set(y_test) - set(y_predict)\n"
   ]
  },
  {
   "source": [
    "## Training"
   ],
   "cell_type": "markdown",
   "metadata": {}
  },
  {
   "cell_type": "code",
   "execution_count": null,
   "metadata": {
    "tags": []
   },
   "outputs": [],
   "source": [
    "df = load_data()\n",
    "\n",
    "# Scale followers to [0, 10]\n",
    "max_followers = df[\"followers\"].max()\n",
    "df[\"followers\"] = df[\"followers\"].apply(lambda x: int(x / (max_followers / 10)))\n",
    "\n",
    "# Use meta genres\n",
    "df[\"genre_name\"] = df[\"genre_name\"].apply(apply_genres)\n",
    "\n",
    "# Scale popularity\n",
    "y = df[\"popularity\"].apply(lambda x: int(x / 10))\n",
    "X = df.values[:, :2]\n",
    "\n",
    "X_train, X_test, y_train, y_test = train_test_split(\n",
    "    X, y, test_size=0.2, random_state=42\n",
    ")\n",
    "\n",
    "print(X_train.shape)\n",
    "print(X_test.shape)"
   ]
  },
  {
   "source": [
    "## Gaussian Naive Bayes"
   ],
   "cell_type": "markdown",
   "metadata": {}
  },
  {
   "cell_type": "code",
   "execution_count": null,
   "metadata": {},
   "outputs": [],
   "source": [
    "print(\"Gaussian Naive Bayes\")\n",
    "gaussian_clf = GaussianNB()\n",
    "\n",
    "# fit the model\n",
    "gaussian_clf.fit(X_train, y_train)\n",
    "\n",
    "calculate_metrics(gaussian_clf, X_test, y_test)"
   ]
  },
  {
   "source": [
    "## SVM"
   ],
   "cell_type": "markdown",
   "metadata": {}
  },
  {
   "cell_type": "code",
   "execution_count": null,
   "metadata": {},
   "outputs": [],
   "source": [
    "print(\"SVC\")\n",
    "svc_clf = SVC()\n",
    "\n",
    "# fit the model\n",
    "svc_clf.fit(X_train, y_train)\n",
    "\n",
    "calculate_metrics(svc_clf, X_test, y_test)"
   ]
  },
  {
   "source": [
    "## Neural Network"
   ],
   "cell_type": "markdown",
   "metadata": {}
  },
  {
   "cell_type": "code",
   "execution_count": null,
   "metadata": {},
   "outputs": [],
   "source": [
    "print(\"Neural Network\")\n",
    "nn_clf = MLPClassifier()\n",
    "\n",
    "# fit the model\n",
    "nn_clf.fit(X_train, y_train)\n",
    "\n",
    "calculate_metrics(nn_clf, X_test, y_test)"
   ]
  },
  {
   "source": [
    "## K-Neighbours Classifier"
   ],
   "cell_type": "markdown",
   "metadata": {}
  },
  {
   "cell_type": "code",
   "execution_count": null,
   "metadata": {},
   "outputs": [],
   "source": [
    "print(\"K-Neighbours Classifier\")\n",
    "knn_clf = KNeighborsClassifier()\n",
    "\n",
    "# fit the model\n",
    "knn_clf.fit(X_train, y_train)\n",
    "\n",
    "calculate_metrics(knn_clf, X_test, y_test)"
   ]
  },
  {
   "source": [
    "## Decision Trees"
   ],
   "cell_type": "markdown",
   "metadata": {}
  },
  {
   "cell_type": "code",
   "execution_count": null,
   "metadata": {},
   "outputs": [],
   "source": [
    "print(\"Decision Trees\")\n",
    "dt_clf = DecisionTreeClassifier()\n",
    "\n",
    "# fit the model\n",
    "dt_clf.fit(X_train, y_train)\n",
    "\n",
    "calculate_metrics(dt_clf, X_test, y_test)"
   ]
  },
  {
   "source": [
    "## Random forest"
   ],
   "cell_type": "markdown",
   "metadata": {}
  },
  {
   "cell_type": "code",
   "execution_count": null,
   "metadata": {},
   "outputs": [],
   "source": [
    "# use different number of trees in forest (comparing different hyperparameters)\n",
    "forest_size = [10,20,50,100]\n",
    "\n",
    "# set seed for random state to get compareable results in every execution (forest randomness)\n",
    "np.random.seed(500)\n",
    "\n",
    "for trees in forest_size:\n",
    "    # set forest size\n",
    "    print(\"Predicting with forest size \" + str(trees))\n",
    "    rf = RandomForestClassifier(n_estimators=trees)\n",
    "\n",
    "    # fit the model\n",
    "    rf.fit(X_train, y_train)\n",
    "\n",
    "    calculate_metrics(rf, X_test, y_test)\n",
    "    print(\"--------\\n\")"
   ]
  }
 ]
}