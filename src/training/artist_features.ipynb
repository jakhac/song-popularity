{
 "cells": [
  {
   "cell_type": "markdown",
   "source": [
    "## Imports"
   ],
   "metadata": {}
  },
  {
   "cell_type": "code",
   "execution_count": 109,
   "source": [
    "import pandas as pd\r\n",
    "import numpy as np\r\n",
    "\r\n",
    "import os\r\n",
    "import sys\r\n",
    "from pathlib import Path\r\n",
    "from dotenv import load_dotenv\r\n",
    "from typing import List\r\n",
    "\r\n",
    "load_dotenv()\r\n",
    "DATA_PATH = Path(os.getenv(\"DATA_PATH\"))\r\n",
    "\r\n",
    "# only for .ipynb because relative imports don't work\r\n",
    "root_path = (DATA_PATH.parent) \r\n",
    "os.chdir(str(root_path))\r\n",
    " \r\n",
    "import src.training.pre_training as t\r\n",
    "import src.training.postprocessing as pp\r\n",
    "\r\n",
    "from imblearn.under_sampling import RandomUnderSampler\r\n",
    "from imblearn.over_sampling import RandomOverSampler\r\n",
    "from sklearn.metrics import plot_confusion_matrix\r\n",
    "\r\n",
    "# sklearn imports\r\n",
    "from sklearn.model_selection import train_test_split\r\n",
    "from sklearn.naive_bayes import GaussianNB\r\n",
    "from sklearn.neighbors import KNeighborsClassifier\r\n",
    "from sklearn.neural_network import MLPClassifier\r\n",
    "from sklearn.svm import SVC\r\n",
    "from sklearn.tree import DecisionTreeClassifier\r\n",
    "from sklearn.ensemble import RandomForestClassifier"
   ],
   "outputs": [],
   "metadata": {}
  },
  {
   "cell_type": "markdown",
   "source": [
    "# Preprocessing"
   ],
   "metadata": {}
  },
  {
   "cell_type": "markdown",
   "source": [
    "## Load Data"
   ],
   "metadata": {}
  },
  {
   "cell_type": "code",
   "execution_count": 110,
   "source": [
    "df = t.get_artist_df()\r\n",
    "\r\n",
    "# scaling\r\n",
    "max_followers = df[\"followers\"].max()\r\n",
    "df[\"followers\"] = df[\"followers\"].apply(lambda x: x / (max_followers / 100))\r\n",
    "df[\"genre_name\"] = df[\"genre_name\"].apply(t.encode_genres)"
   ],
   "outputs": [],
   "metadata": {
    "tags": []
   }
  },
  {
   "cell_type": "markdown",
   "source": [
    "## Split data (X,y)"
   ],
   "metadata": {}
  },
  {
   "cell_type": "code",
   "execution_count": 111,
   "source": [
    "y = df[\"popularity\"].apply(t.encode_popularity)\r\n",
    "X = df.values[:, :2]\r\n",
    "\r\n",
    "# print(X)\r\n",
    "# print(y)"
   ],
   "outputs": [],
   "metadata": {}
  },
  {
   "cell_type": "markdown",
   "source": [
    "## Over-/Undersampling"
   ],
   "metadata": {}
  },
  {
   "cell_type": "code",
   "execution_count": 112,
   "source": [
    "# sampled and encoded popularity\r\n",
    "X, y = RandomUnderSampler(random_state=42).fit_resample(X, y)\r\n",
    "# X, y = RandomOverSampler(random_state=42).fit_resample(X, y)"
   ],
   "outputs": [],
   "metadata": {}
  },
  {
   "cell_type": "code",
   "execution_count": 113,
   "source": [
    "# Plot distr\r\n",
    "# fig = plt.figure(figsize=(5,5))\r\n",
    "# ax = fig.add_subplot(111)\r\n",
    "# ax.set_title(\"pop distr\")\r\n",
    "# ax.set_xlabel(\"popularity\")\r\n",
    "# ax.set_ylabel(\"count\")\r\n",
    "\r\n",
    "# plt.bar(list(set(y)), pp.count_distribution(y))\r\n",
    "\r\n",
    "# print(pd.DataFrame(y).value_counts())\r\n"
   ],
   "outputs": [],
   "metadata": {}
  },
  {
   "cell_type": "markdown",
   "source": [
    "## Train/Test-Split"
   ],
   "metadata": {}
  },
  {
   "cell_type": "code",
   "execution_count": 114,
   "source": [
    "X_train, X_test, y_train, y_test = train_test_split(\r\n",
    "    X, y, test_size=0.2, random_state=42\r\n",
    ")\r\n",
    "\r\n",
    "print(X_train.shape)\r\n",
    "print(X_test.shape)"
   ],
   "outputs": [
    {
     "output_type": "stream",
     "name": "stdout",
     "text": [
      "(200, 2)\n",
      "(50, 2)\n"
     ]
    }
   ],
   "metadata": {}
  },
  {
   "cell_type": "markdown",
   "source": [
    "# Classification"
   ],
   "metadata": {}
  },
  {
   "cell_type": "markdown",
   "source": [
    "## Gaussian Naive Bayes"
   ],
   "metadata": {}
  },
  {
   "cell_type": "code",
   "execution_count": 115,
   "source": [
    "print(\"Gaussian Naive Bayes\")\r\n",
    "gaussian_clf = GaussianNB()\r\n",
    "\r\n",
    "# fit the model\r\n",
    "gaussian_clf.fit(X_train, y_train)\r\n",
    "\r\n",
    "pp.print_metrics(gaussian_clf, X_test, y_test)"
   ],
   "outputs": [
    {
     "output_type": "stream",
     "name": "stdout",
     "text": [
      "Gaussian Naive Bayes\n",
      "Weighted accuracy: 0.6\n",
      "Weighted f1: 0.6007\n",
      "Weighted recall: 0.6\n",
      "Weighted precision: 0.6724\n",
      "Contained classes in prediction: {1, 2, 3, 4, 5}\n",
      "Contained classes in test: {1, 2, 3, 4, 5}\n"
     ]
    }
   ],
   "metadata": {}
  },
  {
   "cell_type": "markdown",
   "source": [
    "## SVM"
   ],
   "metadata": {}
  },
  {
   "cell_type": "code",
   "execution_count": 116,
   "source": [
    "print(\"SVC\")\r\n",
    "svc_clf = SVC()\r\n",
    "\r\n",
    "# fit the model\r\n",
    "svc_clf.fit(X_train, y_train)\r\n",
    "\r\n",
    "pp.print_metrics(svc_clf, X_test, y_test)"
   ],
   "outputs": [
    {
     "output_type": "stream",
     "name": "stdout",
     "text": [
      "SVC\n",
      "Weighted accuracy: 0.38\n",
      "Weighted f1: 0.3251\n",
      "Weighted recall: 0.38\n",
      "Weighted precision: 0.2857\n",
      "Contained classes in prediction: {1, 3, 4, 5}\n",
      "Contained classes in test: {1, 2, 3, 4, 5}\n"
     ]
    },
    {
     "output_type": "stream",
     "name": "stderr",
     "text": [
      "f:\\SmartGit-Repositories\\song-popularity\\venv\\lib\\site-packages\\sklearn\\metrics\\_classification.py:1248: UndefinedMetricWarning: Precision is ill-defined and being set to 0.0 in labels with no predicted samples. Use `zero_division` parameter to control this behavior.\n",
      "  _warn_prf(average, modifier, msg_start, len(result))\n"
     ]
    }
   ],
   "metadata": {}
  },
  {
   "cell_type": "markdown",
   "source": [
    "## Neural Network"
   ],
   "metadata": {}
  },
  {
   "cell_type": "code",
   "execution_count": 117,
   "source": [
    "print(\"Neural Network\")\r\n",
    "nn_clf = MLPClassifier()\r\n",
    "\r\n",
    "# fit the model\r\n",
    "nn_clf.fit(X_train, y_train)\r\n",
    "\r\n",
    "pp.print_metrics(nn_clf, X_test, y_test)"
   ],
   "outputs": [
    {
     "output_type": "stream",
     "name": "stdout",
     "text": [
      "Neural Network\n",
      "Weighted accuracy: 0.48\n",
      "Weighted f1: 0.4613\n",
      "Weighted recall: 0.48\n",
      "Weighted precision: 0.4633\n",
      "Contained classes in prediction: {1, 2, 3, 4, 5}\n",
      "Contained classes in test: {1, 2, 3, 4, 5}\n"
     ]
    },
    {
     "output_type": "stream",
     "name": "stderr",
     "text": [
      "f:\\SmartGit-Repositories\\song-popularity\\venv\\lib\\site-packages\\sklearn\\neural_network\\_multilayer_perceptron.py:614: ConvergenceWarning: Stochastic Optimizer: Maximum iterations (200) reached and the optimization hasn't converged yet.\n",
      "  warnings.warn(\n"
     ]
    }
   ],
   "metadata": {}
  },
  {
   "cell_type": "markdown",
   "source": [
    "## K-Neighbours Classifier"
   ],
   "metadata": {}
  },
  {
   "cell_type": "code",
   "execution_count": 118,
   "source": [
    "print(\"K-Neighbours Classifier\")\r\n",
    "knn_clf = KNeighborsClassifier()\r\n",
    "\r\n",
    "# fit the model\r\n",
    "knn_clf.fit(X_train, y_train)\r\n",
    "\r\n",
    "pp.print_metrics(knn_clf, X_test, y_test)"
   ],
   "outputs": [
    {
     "output_type": "stream",
     "name": "stdout",
     "text": [
      "K-Neighbours Classifier\n",
      "Weighted accuracy: 0.58\n",
      "Weighted f1: 0.577\n",
      "Weighted recall: 0.58\n",
      "Weighted precision: 0.602\n",
      "Contained classes in prediction: {1, 2, 3, 4, 5}\n",
      "Contained classes in test: {1, 2, 3, 4, 5}\n"
     ]
    }
   ],
   "metadata": {}
  },
  {
   "cell_type": "markdown",
   "source": [
    "## Decision Trees"
   ],
   "metadata": {}
  },
  {
   "cell_type": "code",
   "execution_count": 119,
   "source": [
    "print(\"Decision Trees\")\r\n",
    "dt_clf = DecisionTreeClassifier()\r\n",
    "\r\n",
    "# fit the model\r\n",
    "dt_clf.fit(X_train, y_train)\r\n",
    "\r\n",
    "pp.print_metrics(dt_clf, X_test, y_test)"
   ],
   "outputs": [
    {
     "output_type": "stream",
     "name": "stdout",
     "text": [
      "Decision Trees\n",
      "Weighted accuracy: 0.66\n",
      "Weighted f1: 0.6436\n",
      "Weighted recall: 0.66\n",
      "Weighted precision: 0.6676\n",
      "Contained classes in prediction: {1, 2, 3, 4, 5}\n",
      "Contained classes in test: {1, 2, 3, 4, 5}\n"
     ]
    }
   ],
   "metadata": {}
  },
  {
   "cell_type": "markdown",
   "source": [
    "## Random forest"
   ],
   "metadata": {}
  },
  {
   "cell_type": "code",
   "execution_count": 121,
   "source": [
    "# use different number of trees in forest (comparing different hyperparameters)\r\n",
    "forest_size = [10,20,50,100,250]\r\n",
    "\r\n",
    "# set seed for random state to get compareable results in every execution (forest randomness)\r\n",
    "np.random.seed(500)\r\n",
    "\r\n",
    "for trees in forest_size:\r\n",
    "    # set forest size\r\n",
    "    print(\"Predicting with forest size \" + str(trees))\r\n",
    "    rf = RandomForestClassifier(n_estimators=trees)\r\n",
    "\r\n",
    "    # fit the model\r\n",
    "    rf.fit(X_train, y_train)\r\n",
    "\r\n",
    "    pp.print_metrics(rf, X_test, y_test)\r\n",
    "    print(\"--------\\n\")"
   ],
   "outputs": [
    {
     "output_type": "stream",
     "name": "stdout",
     "text": [
      "Predicting with forest size 10\n",
      "Weighted accuracy: 0.6\n",
      "Weighted f1: 0.6061\n",
      "Weighted recall: 0.6\n",
      "Weighted precision: 0.6503\n",
      "Contained classes in prediction: {1, 2, 3, 4, 5}\n",
      "Contained classes in test: {1, 2, 3, 4, 5}\n",
      "--------\n",
      "\n",
      "Predicting with forest size 20\n",
      "Weighted accuracy: 0.66\n",
      "Weighted f1: 0.6565\n",
      "Weighted recall: 0.66\n",
      "Weighted precision: 0.7313\n",
      "Contained classes in prediction: {1, 2, 3, 4, 5}\n",
      "Contained classes in test: {1, 2, 3, 4, 5}\n",
      "--------\n",
      "\n",
      "Predicting with forest size 50\n",
      "Weighted accuracy: 0.6\n",
      "Weighted f1: 0.5981\n",
      "Weighted recall: 0.6\n",
      "Weighted precision: 0.6415\n",
      "Contained classes in prediction: {1, 2, 3, 4, 5}\n",
      "Contained classes in test: {1, 2, 3, 4, 5}\n",
      "--------\n",
      "\n",
      "Predicting with forest size 100\n",
      "Weighted accuracy: 0.64\n",
      "Weighted f1: 0.6409\n",
      "Weighted recall: 0.64\n",
      "Weighted precision: 0.7062\n",
      "Contained classes in prediction: {1, 2, 3, 4, 5}\n",
      "Contained classes in test: {1, 2, 3, 4, 5}\n",
      "--------\n",
      "\n",
      "Predicting with forest size 250\n",
      "Weighted accuracy: 0.64\n",
      "Weighted f1: 0.6409\n",
      "Weighted recall: 0.64\n",
      "Weighted precision: 0.7062\n",
      "Contained classes in prediction: {1, 2, 3, 4, 5}\n",
      "Contained classes in test: {1, 2, 3, 4, 5}\n",
      "--------\n",
      "\n"
     ]
    }
   ],
   "metadata": {}
  },
  {
   "cell_type": "code",
   "execution_count": 142,
   "source": [
    "from sklearn.experimental import enable_hist_gradient_boosting \r\n",
    "from sklearn.ensemble import VotingClassifier, AdaBoostClassifier, BaggingClassifier, HistGradientBoostingClassifier\r\n",
    "\r\n",
    "ens_clf = VotingClassifier(estimators=[\r\n",
    "    ('gauss', GaussianNB()), ('knn', KNeighborsClassifier()), ('rf', RandomForestClassifier(n_estimators=1000))\r\n",
    "], voting='hard')\r\n",
    "\r\n",
    "# ens_clf = BaggingClassifier(base_estimator=GaussianNB(),\r\n",
    "#     n_estimators=5000, random_state=42)\r\n",
    "\r\n",
    "ens_clf.fit(X_train, y_train)\r\n",
    "\r\n",
    "pp.print_metrics(ens_clf, X_test, y_test)"
   ],
   "outputs": [
    {
     "output_type": "stream",
     "name": "stdout",
     "text": [
      "Weighted accuracy: 0.62\n",
      "Weighted f1: 0.6208\n",
      "Weighted recall: 0.62\n",
      "Weighted precision: 0.6862\n",
      "Contained classes in prediction: {1, 2, 3, 4, 5}\n",
      "Contained classes in test: {1, 2, 3, 4, 5}\n"
     ]
    }
   ],
   "metadata": {}
  },
  {
   "cell_type": "markdown",
   "source": [
    "# Model Evaluation"
   ],
   "metadata": {}
  },
  {
   "cell_type": "markdown",
   "source": [
    "## Store model"
   ],
   "metadata": {}
  },
  {
   "cell_type": "code",
   "execution_count": null,
   "source": [
    "pp.store_model_to_file(rf, \"rf_size=100_prec=70\", \"artist\")"
   ],
   "outputs": [],
   "metadata": {}
  },
  {
   "cell_type": "markdown",
   "source": [
    "## Plotting"
   ],
   "metadata": {}
  },
  {
   "cell_type": "code",
   "execution_count": null,
   "source": [
    "import matplotlib.pyplot as plt\r\n",
    "\r\n",
    "plt.title(\"Dataset Artists V1 + unpredicted popularity\")\r\n",
    "plt.xlabel(\"popularity\")\r\n",
    "plt.ylabel(\"artist count\")\r\n",
    "\r\n",
    "plt.bar(list(set(y_test)), pp.count_distribution(y_test))\r\n",
    "plt.show()"
   ],
   "outputs": [],
   "metadata": {}
  },
  {
   "cell_type": "code",
   "execution_count": null,
   "source": [
    "# Confusion matrix\r\n",
    "fig, cax = plt.subplots(figsize=(16, 16)) # subplot for larger size\r\n",
    "# plot_confusion_matrix(estimator=knn_clf, X=X_test, y_true=y_test, cmap=plt.cm.Blues,normalize=\"true\",values_format=\".2f\",ax=cax)\r\n",
    "plot_confusion_matrix(estimator=knn_clf, X=X_test, y_true=y_test, cmap=plt.cm.Blues,normalize=None,values_format=\".2f\",ax=cax)\r\n",
    "\r\n",
    "plt.show()"
   ],
   "outputs": [],
   "metadata": {}
  }
 ],
 "metadata": {
  "interpreter": {
   "hash": "79c01d956d8d580ff50d5e99a3a6d3d709ffed313f15b1c7fdf81c9e53683cc0"
  },
  "kernelspec": {
   "display_name": "Python 3.8.3 64-bit ('venv': venv)",
   "name": "python383jvsc74a57bd02b3eb31ce1614becdc450ec2390d8c8042f24cf7f310c376c5598f4b488704d2",
   "language": "python"
  },
  "language_info": {
   "codemirror_mode": {
    "name": "ipython",
    "version": 3
   },
   "file_extension": ".py",
   "mimetype": "text/x-python",
   "name": "python",
   "nbconvert_exporter": "python",
   "pygments_lexer": "ipython3",
   "version": "3.8.3"
  },
  "orig_nbformat": 4
 },
 "nbformat": 4,
 "nbformat_minor": 2
}