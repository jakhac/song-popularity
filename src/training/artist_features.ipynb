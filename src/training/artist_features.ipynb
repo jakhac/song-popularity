{
 "cells": [
  {
   "cell_type": "markdown",
   "metadata": {},
   "source": [
    "## Imports"
   ]
  },
  {
   "cell_type": "code",
   "execution_count": null,
   "metadata": {},
   "outputs": [],
   "source": [
    "import pandas as pd\n",
    "import numpy as np\n",
    "\n",
    "import os\n",
    "import sys\n",
    "from pathlib import Path\n",
    "from dotenv import load_dotenv\n",
    "from typing import List\n",
    "\n",
    "load_dotenv()\n",
    "DATA_PATH = Path(os.getenv(\"DATA_PATH\"))\n",
    "\n",
    "# only for .ipynb because relative imports don't work\n",
    "root_path = (DATA_PATH.parent) \n",
    "os.chdir(str(root_path))\n",
    " \n",
    "import src.training.pre_training as t\n",
    "import src.training.postprocessing as pp\n",
    "\n",
    "\n",
    "from sklearn.metrics import plot_confusion_matrix\n",
    "\n",
    "# sklearn imports\n",
    "from sklearn.model_selection import train_test_split\n",
    "from sklearn.naive_bayes import GaussianNB\n",
    "from sklearn.neighbors import KNeighborsClassifier\n",
    "from sklearn.neural_network import MLPClassifier\n",
    "from sklearn.svm import SVC\n",
    "from sklearn.tree import DecisionTreeClassifier\n",
    "from sklearn.ensemble import RandomForestClassifier"
   ]
  },
  {
   "cell_type": "markdown",
   "metadata": {},
   "source": [
    "## Prepare Data"
   ]
  },
  {
   "cell_type": "code",
   "execution_count": null,
   "metadata": {
    "tags": []
   },
   "outputs": [],
   "source": [
    "df = t.get_artist_df()\r\n",
    "\r\n",
    "max_followers = df[\"followers\"].max()\r\n",
    "df[\"followers\"] = df[\"followers\"].apply(lambda x: x / (max_followers / 100))\r\n",
    "df[\"genre_name\"] = df[\"genre_name\"].apply(t.encode_genres)\r\n",
    "\r\n",
    "y = df[\"popularity\"].apply(lambda x: int(x / 10))\r\n",
    "X = df.values[:, :2]\r\n",
    "\r\n",
    "# TODO: RUS\r\n",
    "\r\n",
    "X_train, X_test, y_train, y_test = train_test_split(\r\n",
    "    X, y, test_size=0.2, random_state=42\r\n",
    ")\r\n",
    "\r\n",
    "# print(X_train.shape)\r\n",
    "# print(X_test.shape)\r\n",
    "# print(df)"
   ]
  },
  {
   "cell_type": "markdown",
   "metadata": {},
   "source": [
    "## Gaussian Naive Bayes"
   ]
  },
  {
   "cell_type": "code",
   "execution_count": null,
   "metadata": {},
   "outputs": [],
   "source": [
    "print(\"Gaussian Naive Bayes\")\r\n",
    "gaussian_clf = GaussianNB()\r\n",
    "\r\n",
    "# fit the model\r\n",
    "gaussian_clf.fit(X_train, y_train)\r\n",
    "\r\n",
    "pp.print_metrics(gaussian_clf, X_test, y_test)"
   ]
  },
  {
   "cell_type": "markdown",
   "metadata": {},
   "source": [
    "## SVM"
   ]
  },
  {
   "cell_type": "code",
   "execution_count": null,
   "metadata": {},
   "outputs": [],
   "source": [
    "print(\"SVC\")\r\n",
    "svc_clf = SVC()\r\n",
    "\r\n",
    "# fit the model\r\n",
    "svc_clf.fit(X_train, y_train)\r\n",
    "\r\n",
    "pp.print_metrics(svc_clf, X_test, y_test)"
   ]
  },
  {
   "cell_type": "markdown",
   "metadata": {},
   "source": [
    "## Neural Network"
   ]
  },
  {
   "cell_type": "code",
   "execution_count": null,
   "metadata": {},
   "outputs": [],
   "source": [
    "print(\"Neural Network\")\n",
    "nn_clf = MLPClassifier()\n",
    "\n",
    "# fit the model\n",
    "nn_clf.fit(X_train, y_train)\n",
    "\n",
    "pp.print_metrics(nn_clf, X_test, y_test)"
   ]
  },
  {
   "cell_type": "markdown",
   "metadata": {},
   "source": [
    "## K-Neighbours Classifier"
   ]
  },
  {
   "cell_type": "code",
   "execution_count": null,
   "metadata": {},
   "outputs": [],
   "source": [
    "print(\"K-Neighbours Classifier\")\r\n",
    "knn_clf = KNeighborsClassifier()\r\n",
    "\r\n",
    "# fit the model\r\n",
    "knn_clf.fit(X_train, y_train)\r\n",
    "\r\n",
    "pp.print_metrics(knn_clf, X_test, y_test)"
   ]
  },
  {
   "cell_type": "markdown",
   "metadata": {},
   "source": [
    "## Decision Trees"
   ]
  },
  {
   "cell_type": "code",
   "execution_count": null,
   "metadata": {},
   "outputs": [],
   "source": [
    "print(\"Decision Trees\")\r\n",
    "dt_clf = DecisionTreeClassifier()\r\n",
    "\r\n",
    "# fit the model\r\n",
    "dt_clf.fit(X_train, y_train)\r\n",
    "\r\n",
    "pp.print_metrics(dt_clf, X_test, y_test)"
   ]
  },
  {
   "cell_type": "markdown",
   "metadata": {},
   "source": [
    "## Random forest"
   ]
  },
  {
   "cell_type": "code",
   "execution_count": null,
   "metadata": {},
   "outputs": [],
   "source": [
    "# use different number of trees in forest (comparing different hyperparameters)\r\n",
    "forest_size = [10,20,50,100]\r\n",
    "\r\n",
    "# set seed for random state to get compareable results in every execution (forest randomness)\r\n",
    "np.random.seed(500)\r\n",
    "\r\n",
    "for trees in forest_size:\r\n",
    "    # set forest size\r\n",
    "    print(\"Predicting with forest size \" + str(trees))\r\n",
    "    rf = RandomForestClassifier(n_estimators=trees)\r\n",
    "\r\n",
    "    # fit the model\r\n",
    "    rf.fit(X_train, y_train)\r\n",
    "\r\n",
    "    pp.print_metrics(rf, X_test, y_test)\r\n",
    "    print(\"--------\\n\")"
   ]
  },
  {
   "cell_type": "markdown",
   "metadata": {},
   "source": [
    "## Plotting"
   ]
  },
  {
   "cell_type": "code",
   "execution_count": null,
   "metadata": {},
   "outputs": [],
   "source": [
    "import matplotlib.pyplot as plt\n",
    "\n",
    "plt.title(\"Dataset Artists V1 + unpredicted popularity\")\n",
    "plt.xlabel(\"popularity\")\n",
    "plt.ylabel(\"artist count\")\n",
    "\n",
    "plt.bar(list(set(y_test)), pp.count_distribution(y_test))\n",
    "plt.show()"
   ]
  },
  {
   "cell_type": "code",
   "execution_count": null,
   "metadata": {},
   "outputs": [],
   "source": [
    "# Confusion matrix\n",
    "fig, cax = plt.subplots(figsize=(16, 16)) # subplot for larger size\n",
    "# plot_confusion_matrix(estimator=knn_clf, X=X_test, y_true=y_test, cmap=plt.cm.Blues,normalize=\"true\",values_format=\".2f\",ax=cax)\n",
    "plot_confusion_matrix(estimator=knn_clf, X=X_test, y_true=y_test, cmap=plt.cm.Blues,normalize=None,values_format=\".2f\",ax=cax)\n",
    "\n",
    "plt.show()"
   ]
  },
  {
   "cell_type": "code",
   "execution_count": null,
   "metadata": {},
   "outputs": [],
   "source": []
  }
 ],
 "metadata": {
  "interpreter": {
   "hash": "79c01d956d8d580ff50d5e99a3a6d3d709ffed313f15b1c7fdf81c9e53683cc0"
  },
  "kernelspec": {
   "display_name": "Python 3.8.3 64-bit ('venv': venv)",
   "name": "python383jvsc74a57bd02b3eb31ce1614becdc450ec2390d8c8042f24cf7f310c376c5598f4b488704d2",
   "language": "python"
  },
  "language_info": {
   "codemirror_mode": {
    "name": "ipython",
    "version": 3
   },
   "file_extension": ".py",
   "mimetype": "text/x-python",
   "name": "python",
   "nbconvert_exporter": "python",
   "pygments_lexer": "ipython3",
   "version": "3.8.3"
  },
  "orig_nbformat": 4
 },
 "nbformat": 4,
 "nbformat_minor": 2
}