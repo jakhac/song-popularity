{
 "cells": [
  {
   "cell_type": "markdown",
   "metadata": {},
   "source": [
    "# Music Feature Training"
   ]
  },
  {
   "cell_type": "markdown",
   "metadata": {},
   "source": [
    "## Imports"
   ]
  },
  {
   "cell_type": "code",
   "execution_count": 1,
   "metadata": {},
   "outputs": [],
   "source": [
    "import pandas as pd\n",
    "import numpy as np\n",
    "\n",
    "import os\n",
    "import sys\n",
    "from pathlib import Path\n",
    "from dotenv import load_dotenv\n",
    "from typing import List\n",
    "\n",
    "import matplotlib.pyplot as plt\n",
    "import seaborn as sns\n",
    "\n",
    "from imblearn.under_sampling import RandomUnderSampler\n",
    "from imblearn.over_sampling import RandomOverSampler\n",
    "\n",
    "load_dotenv()\n",
    "\n",
    "DATA_PATH = Path(os.getenv(\"DATA_PATH\"))\n",
    "\n",
    "# only for .ipynb because relative imports don't work\n",
    "root_path = (DATA_PATH.parent) \n",
    "os.chdir(str(root_path))\n",
    " \n",
    "import src.training.plotting as p\n",
    "import src.training.postprocessing as pp\n",
    "import src.training.pre_training as t\n",
    "\n",
    "from sklearn.metrics import plot_confusion_matrix\n",
    "from sklearn.model_selection import train_test_split\n",
    "from sklearn.preprocessing import StandardScaler\n",
    "from sklearn.decomposition import PCA\n",
    "\n",
    "# import models\n",
    "from sklearn.naive_bayes import GaussianNB\n",
    "from sklearn.neighbors import KNeighborsClassifier\n",
    "from sklearn.neural_network import MLPClassifier\n",
    "from sklearn.svm import SVC\n",
    "from sklearn.tree import DecisionTreeClassifier\n",
    "from sklearn.ensemble import RandomForestClassifier"
   ]
  },
  {
   "cell_type": "markdown",
   "metadata": {},
   "source": [
    "# Preprocessing"
   ]
  },
  {
   "cell_type": "markdown",
   "metadata": {},
   "source": [
    "## Load Data"
   ]
  },
  {
   "cell_type": "code",
   "execution_count": 2,
   "metadata": {
    "tags": []
   },
   "outputs": [],
   "source": [
    "df = t.get_music_df()"
   ]
  },
  {
   "cell_type": "markdown",
   "metadata": {},
   "source": [
    "## Split data: features X and target variable y"
   ]
  },
  {
   "cell_type": "code",
   "execution_count": 3,
   "metadata": {},
   "outputs": [],
   "source": [
    "X = df.values[:, :15]\n",
    "y = df[\"popularity\"].apply(t.binary_popularity)"
   ]
  },
  {
   "cell_type": "markdown",
   "metadata": {},
   "source": [
    "## Over-/Undersampling"
   ]
  },
  {
   "cell_type": "code",
   "execution_count": 4,
   "metadata": {},
   "outputs": [],
   "source": [
    "# sampled and encoded popularity\n",
    "X, y = RandomUnderSampler(random_state=42).fit_resample(X, y)"
   ]
  },
  {
   "cell_type": "markdown",
   "metadata": {},
   "source": [
    "## PCA"
   ]
  },
  {
   "cell_type": "code",
   "execution_count": 5,
   "metadata": {},
   "outputs": [
    {
     "name": "stdout",
     "output_type": "stream",
     "text": [
      "Amount explained: 1.0\n",
      "Amount explained in each PC: [0.17158318 0.12302766 0.08770458 0.07860467 0.07517155 0.0694181\n",
      " 0.06540606 0.06191153 0.05996994 0.05362643 0.04869157 0.03701916\n",
      " 0.02988696 0.02676269 0.0112159 ]\n",
      "             0         1         2         3         4         5         6   \\\n",
      "PC-1   0.068537 -0.138829  0.017380 -0.135094 -0.541877 -0.050496 -0.503736   \n",
      "PC-2   0.316777 -0.372031 -0.253582 -0.511636  0.227789 -0.063265  0.128236   \n",
      "PC-3   0.004514  0.470673  0.246992 -0.312229 -0.008618  0.029489 -0.018128   \n",
      "PC-4   0.404947  0.003455 -0.097012  0.170073 -0.021126  0.424718 -0.173686   \n",
      "PC-5   0.433507  0.263780 -0.574764  0.010941 -0.070121 -0.106878  0.025952   \n",
      "PC-6  -0.206822 -0.150816 -0.136330 -0.138389 -0.036350  0.656882  0.087253   \n",
      "PC-7   0.123350  0.133994 -0.380447  0.068302 -0.032396 -0.017733 -0.048936   \n",
      "PC-8  -0.089324 -0.064906 -0.042828  0.149445  0.039500 -0.130112 -0.226911   \n",
      "PC-9   0.082423  0.021032  0.188408  0.144521  0.047321 -0.366555  0.173842   \n",
      "PC-10  0.008847  0.155743  0.156400  0.020337  0.118046  0.450585  0.115293   \n",
      "PC-11  0.630961 -0.062519  0.468695  0.292863 -0.103026  0.103779 -0.014210   \n",
      "PC-12  0.112250 -0.635374  0.148537 -0.117203  0.080942 -0.046740  0.062915   \n",
      "PC-13  0.243466  0.263722  0.220693 -0.469920  0.195897 -0.040572  0.172466   \n",
      "PC-14 -0.010590  0.065347  0.135777 -0.410058 -0.029759  0.003938 -0.563264   \n",
      "PC-15  0.009177  0.012495 -0.025028  0.193699  0.756645  0.005180 -0.492398   \n",
      "\n",
      "             7         8         9         10        11        12        13  \\\n",
      "PC-1   0.141194 -0.178123  0.488680  0.084958 -0.084443 -0.253613 -0.129722   \n",
      "PC-2   0.083652 -0.359498 -0.173703  0.194176  0.198478 -0.260881  0.199373   \n",
      "PC-3  -0.151713  0.437248  0.023147  0.036008  0.258925 -0.482606  0.269109   \n",
      "PC-4  -0.551303  0.063106 -0.088712  0.480429 -0.068233 -0.017779 -0.144545   \n",
      "PC-5   0.147101  0.232459  0.027574 -0.337330  0.238290 -0.009306 -0.380929   \n",
      "PC-6  -0.213391 -0.073051  0.151286 -0.435680  0.161501  0.113992  0.003809   \n",
      "PC-7   0.124053  0.180214 -0.037901  0.083072 -0.555938  0.152466  0.486516   \n",
      "PC-8   0.116609  0.150715  0.036041  0.381579  0.619185  0.443635  0.064954   \n",
      "PC-9  -0.311908 -0.168352 -0.137790 -0.043454 -0.117650 -0.135245 -0.420208   \n",
      "PC-10  0.647089  0.009580 -0.136614  0.294578 -0.111440 -0.137334 -0.364168   \n",
      "PC-11  0.168230 -0.115566 -0.060276 -0.315150  0.138479  0.086861  0.311203   \n",
      "PC-12  0.035165  0.692152  0.087289 -0.045521 -0.147677 -0.010293 -0.150371   \n",
      "PC-13 -0.063323 -0.066814  0.479239  0.091266 -0.154001  0.497622 -0.116514   \n",
      "PC-14 -0.013010  0.026640 -0.586415 -0.202900 -0.113698  0.264829 -0.147688   \n",
      "PC-15  0.014999 -0.057111  0.271617 -0.165236 -0.050671 -0.196707 -0.005661   \n",
      "\n",
      "             14  \n",
      "PC-1  -0.146897  \n",
      "PC-2  -0.107333  \n",
      "PC-3  -0.174001  \n",
      "PC-4   0.119194  \n",
      "PC-5   0.052937  \n",
      "PC-6  -0.391977  \n",
      "PC-7  -0.434110  \n",
      "PC-8  -0.355004  \n",
      "PC-9  -0.643698  \n",
      "PC-10 -0.179952  \n",
      "PC-11 -0.052650  \n",
      "PC-12 -0.026027  \n",
      "PC-13  0.022032  \n",
      "PC-14 -0.007982  \n",
      "PC-15 -0.027593  \n"
     ]
    }
   ],
   "source": [
    "# Dimensionality Reduction\n",
    "reduce_to = 15\n",
    "\n",
    "cols = pd.DataFrame(X).columns\n",
    "\n",
    "# Standardization of X\n",
    "scaler = StandardScaler()\n",
    "scaler.fit(X)\n",
    "X = scaler.transform(X)\n",
    "\n",
    "# apply PCA to X\n",
    "pca = PCA(n_components=reduce_to)\n",
    "pca.fit(X, y)\n",
    "X = pca.transform(X)\n",
    "\n",
    "print(\"Amount explained:\", sum(pca.explained_variance_ratio_))\n",
    "print(\"Amount explained in each PC:\", pca.explained_variance_ratio_)\n",
    "\n",
    "descr = [\"PC-\" + str(x) for x in range(1, reduce_to + 1)]\n",
    "print(pd.DataFrame(pca.components_, columns=cols, index=descr))"
   ]
  },
  {
   "cell_type": "markdown",
   "metadata": {},
   "source": [
    "## Feature Selection"
   ]
  },
  {
   "cell_type": "code",
   "execution_count": 6,
   "metadata": {},
   "outputs": [
    {
     "data": {
      "image/png": "[encoded data removed]",
      "text/plain": [
       "<Figure size 432x288 with 1 Axes>"
      ]
     },
     "metadata": {
      "needs_background": "light"
     },
     "output_type": "display_data"
    }
   ],
   "source": [
    "# Pearson Correlation Coefficient\n",
    "pear_corr = df.corr(method='pearson')\n",
    "plt.imshow(pear_corr, cmap='hot')\n",
    "plt.show()"
   ]
  },
  {
   "cell_type": "markdown",
   "metadata": {},
   "source": [
    "## Train/Test-Split"
   ]
  },
  {
   "cell_type": "code",
   "execution_count": 7,
   "metadata": {},
   "outputs": [
    {
     "name": "stdout",
     "output_type": "stream",
     "text": [
      "(4868, 15)\n",
      "(1218, 15)\n"
     ]
    }
   ],
   "source": [
    "X_train, X_test, y_train, y_test = train_test_split(\n",
    "    X, y, test_size=0.2, random_state=42\n",
    ")\n",
    "\n",
    "print(X_train.shape)\n",
    "print(X_test.shape)"
   ]
  },
  {
   "cell_type": "markdown",
   "metadata": {},
   "source": [
    "# Classification"
   ]
  },
  {
   "cell_type": "code",
   "execution_count": 8,
   "metadata": {},
   "outputs": [],
   "source": [
    "# store classifiers for later plotting\n",
    "clf_list = []"
   ]
  },
  {
   "cell_type": "markdown",
   "metadata": {},
   "source": [
    "## Gaussian Naive Bayes"
   ]
  },
  {
   "cell_type": "code",
   "execution_count": 9,
   "metadata": {},
   "outputs": [
    {
     "name": "stdout",
     "output_type": "stream",
     "text": [
      "Weighted accuracy: 0.6232\n",
      "Weighted f1: 0.6085\n",
      "Weighted recall: 0.6232\n",
      "Weighted precision: 0.6541\n",
      "Contained classes in prediction: {0, 1}\n",
      "Contained classes in test: {0, 1}\n"
     ]
    }
   ],
   "source": [
    "gaussian_clf = GaussianNB()\n",
    "\n",
    "# fit the model\n",
    "gaussian_clf.fit(X_train, y_train)\n",
    "clf_list.append(gaussian_clf)\n",
    "\n",
    "pp.print_metrics(gaussian_clf, X_test, y_test)"
   ]
  },
  {
   "cell_type": "markdown",
   "metadata": {},
   "source": [
    "## SVM"
   ]
  },
  {
   "cell_type": "code",
   "execution_count": 10,
   "metadata": {},
   "outputs": [],
   "source": [
    "svc_clf = SVC()\n",
    "\n",
    "# fit the model\n",
    "svc_clf.fit(X_train, y_train)\n",
    "clf_list.append(svc_clf)\n",
    "\n",
    "pp.print_metrics(svc_clf, X_test, y_test)"
   ]
  },
  {
   "cell_type": "markdown",
   "metadata": {},
   "source": [
    "## Neural Network"
   ]
  },
  {
   "cell_type": "code",
   "execution_count": 11,
   "metadata": {},
   "outputs": [
    {
     "name": "stdout",
     "output_type": "stream",
     "text": [
      "Weighted accuracy: 0.6814\n",
      "Weighted f1: 0.6809\n",
      "Weighted recall: 0.6814\n",
      "Weighted precision: 0.6849\n",
      "Contained classes in prediction: {0, 1}\n",
      "Contained classes in test: {0, 1}\n"
     ]
    },
    {
     "name": "stderr",
     "output_type": "stream",
     "text": [
      "c:\\Users\\Kevin Katzkowski\\Documents\\projects\\song-popularity\\venv\\lib\\site-packages\\sklearn\\neural_network\\_multilayer_perceptron.py:614: ConvergenceWarning: Stochastic Optimizer: Maximum iterations (200) reached and the optimization hasn't converged yet.\n",
      "  warnings.warn(\n"
     ]
    }
   ],
   "source": [
    "nn_clf = MLPClassifier()\n",
    "\n",
    "# fit the model\n",
    "nn_clf.fit(X_train, y_train)\n",
    "clf_list.append(nn_clf)\n",
    "\n",
    "pp.print_metrics(nn_clf, X_test, y_test)"
   ]
  },
  {
   "cell_type": "markdown",
   "metadata": {},
   "source": [
    "## K-Neighbours Classifier"
   ]
  },
  {
   "cell_type": "code",
   "execution_count": 12,
   "metadata": {},
   "outputs": [
    {
     "name": "stdout",
     "output_type": "stream",
     "text": [
      "Weighted accuracy: 0.6338\n",
      "Weighted f1: 0.6334\n",
      "Weighted recall: 0.6338\n",
      "Weighted precision: 0.6365\n",
      "Contained classes in prediction: {0, 1}\n",
      "Contained classes in test: {0, 1}\n"
     ]
    }
   ],
   "source": [
    "knn_clf = KNeighborsClassifier()\n",
    "\n",
    "# fit the model\n",
    "knn_clf.fit(X_train, y_train)\n",
    "clf_list.append(knn_clf)\n",
    "\n",
    "pp.print_metrics(knn_clf, X_test, y_test)"
   ]
  },
  {
   "cell_type": "markdown",
   "metadata": {},
   "source": [
    "## Decision Trees"
   ]
  },
  {
   "cell_type": "code",
   "execution_count": 13,
   "metadata": {},
   "outputs": [
    {
     "name": "stdout",
     "output_type": "stream",
     "text": [
      "Weighted accuracy: 0.5649\n",
      "Weighted f1: 0.565\n",
      "Weighted recall: 0.5649\n",
      "Weighted precision: 0.5652\n",
      "Contained classes in prediction: {0, 1}\n",
      "Contained classes in test: {0, 1}\n"
     ]
    }
   ],
   "source": [
    "dt_clf = DecisionTreeClassifier()\n",
    "\n",
    "# fit the model\n",
    "dt_clf.fit(X_train, y_train)\n",
    "clf_list.append(dt_clf)\n",
    "\n",
    "pp.print_metrics(dt_clf, X_test, y_test)"
   ]
  },
  {
   "cell_type": "markdown",
   "metadata": {},
   "source": [
    "## Random Forest"
   ]
  },
  {
   "cell_type": "code",
   "execution_count": 14,
   "metadata": {},
   "outputs": [
    {
     "name": "stdout",
     "output_type": "stream",
     "text": [
      "Predicting with forest size 250\n",
      "Weighted accuracy: 0.6658\n",
      "Weighted f1: 0.6651\n",
      "Weighted recall: 0.6658\n",
      "Weighted precision: 0.6698\n",
      "Contained classes in prediction: {0, 1}\n",
      "Contained classes in test: {0, 1}\n",
      "--------\n",
      "\n"
     ]
    }
   ],
   "source": [
    "# use different number of trees in forest \n",
    "forest_size = [250]\n",
    "\n",
    "# set seed for random state to get compareable results in every execution (forest randomness)\n",
    "np.random.seed(500)\n",
    "\n",
    "for trees in forest_size:\n",
    "    # set forest size\n",
    "    print(\"Predicting with forest size \" + str(trees))\n",
    "    rf = RandomForestClassifier(n_estimators=trees)\n",
    "\n",
    "    # fit the model\n",
    "    rf.fit(X_train, y_train)\n",
    "    clf_list.append(rf)\n",
    "\n",
    "    pp.print_metrics(rf, X_test, y_test)\n",
    "    print(\"--------\\n\")"
   ]
  },
  {
   "cell_type": "markdown",
   "metadata": {},
   "source": [
    "## Ensemble"
   ]
  },
  {
   "cell_type": "code",
   "execution_count": 16,
   "metadata": {},
   "outputs": [
    {
     "name": "stdout",
     "output_type": "stream",
     "text": [
      "Weighted accuracy: 0.5213\n",
      "Weighted f1: 0.4619\n",
      "Weighted recall: 0.5213\n",
      "Weighted precision: 0.558\n",
      "Contained classes in prediction: {0, 1}\n",
      "Contained classes in test: {0, 1}\n"
     ]
    }
   ],
   "source": [
    "from sklearn.ensemble import VotingClassifier, AdaBoostClassifier\n",
    "\n",
    "# ens_clf = VotingClassifier(estimators=[\n",
    "#     ('gauss', GaussianNB()), ('knn', KNeighborsClassifier()), ('rf', RandomForestClassifier())\n",
    "# ])\n",
    "\n",
    "ens_clf = AdaBoostClassifier(base_estimator=GaussianNB(), \n",
    "    n_estimators=25, random_state=42)\n",
    "\n",
    "ens_clf.fit(X_train, y_train)\n",
    "\n",
    "pp.print_metrics(ens_clf, X_test, y_test)"
   ]
  },
  {
   "cell_type": "markdown",
   "metadata": {},
   "source": [
    "# Model Evaluation"
   ]
  },
  {
   "cell_type": "markdown",
   "metadata": {},
   "source": [
    "## Store models to .mdl file"
   ]
  },
  {
   "cell_type": "code",
   "execution_count": null,
   "metadata": {},
   "outputs": [],
   "source": [
    "# pp.store_model_to_file(rf, \"rf_size=1000_prec=41\", \"music\")"
   ]
  },
  {
   "cell_type": "markdown",
   "metadata": {},
   "source": [
    "## Metrics + Confusion Matrices"
   ]
  },
  {
   "cell_type": "code",
   "execution_count": 17,
   "metadata": {},
   "outputs": [],
   "source": [
    " # generate list of plots for each clf: metrics, cf_matrix, cf_matrix_norm\n",
    " p_list = p.generate_model_plots(X_test, y_test, clf_list)"
   ]
  },
  {
   "cell_type": "markdown",
   "metadata": {},
   "source": [
    "## Save/display plots"
   ]
  },
  {
   "cell_type": "code",
   "execution_count": null,
   "metadata": {},
   "outputs": [],
   "source": [
    "# params\n",
    "save_plots = False\n",
    "n_cols = 3\n",
    "document_title = \"Random Forest up to 2000 trees\"\n",
    "document_folder = \"all\" # lyrics, model, artist, all\n",
    "\n",
    "# save/display plots as jpg\n",
    "p.plots_from_list(document_title, p_list, document_folder, cols=n_cols, save=save_plots)"
   ]
  },
  {
   "cell_type": "markdown",
   "metadata": {},
   "source": [
    "## Feature importance"
   ]
  },
  {
   "cell_type": "code",
   "execution_count": 18,
   "metadata": {},
   "outputs": [
    {
     "data": {
      "image/png": "[encoded data removed]",
      "text/plain": [
       "<Figure size 432x288 with 1 Axes>"
      ]
     },
     "metadata": {
      "needs_background": "light"
     },
     "output_type": "display_data"
    }
   ],
   "source": [
    "importances = rf.feature_importances_\n",
    "std = np.std([\n",
    "    tree.feature_importances_ for tree in rf.estimators_], axis=0)\n",
    "\n",
    "feature_list = list(map(lambda feat: \"loudness\" if feat == \"loadness\" else feat, list(df)[:15]))\n",
    "\n",
    "forest_importances = pd.Series(importances, index=feature_list).sort_values(ascending=False)\n",
    "\n",
    "fig, ax = plt.subplots()\n",
    "forest_importances.plot.bar(yerr=std, ax=ax)\n",
    "ax.set_title(\"Feature importances using MDI\")\n",
    "ax.set_ylabel(\"Mean decrease in impurity\")\n",
    "fig.tight_layout()"
   ]
  },
  {
   "cell_type": "code",
   "execution_count": 19,
   "metadata": {},
   "outputs": [
    {
     "data": {
      "image/png": "[encoded data removed]",
      "text/plain": [
       "<Figure size 432x288 with 1 Axes>"
      ]
     },
     "metadata": {
      "needs_background": "light"
     },
     "output_type": "display_data"
    }
   ],
   "source": [
    "from sklearn.inspection import permutation_importance\n",
    "\n",
    "result = permutation_importance(\n",
    "    rf, X_test, y_test, n_repeats=10, random_state=42, n_jobs=2)\n",
    "\n",
    "\n",
    "feature_list = list(map(lambda feat: \"loudness\" if feat == \"loadness\" else feat, list(df)[:15]))\n",
    "\n",
    "forest_importances = pd.Series(result.importances_mean, index=feature_list).sort_values(ascending=False)\n",
    "\n",
    "fig, ax = plt.subplots()\n",
    "forest_importances.plot.bar(yerr=result.importances_std, ax=ax)\n",
    "ax.set_title(\"Feature importances using permutation on full model\")\n",
    "ax.set_ylabel(\"Mean accuracy decrease\")\n",
    "fig.tight_layout()\n",
    "plt.show()"
   ]
  },
  {
   "cell_type": "markdown",
   "metadata": {},
   "source": [
    "## Confusion Matrix for Single Classifier"
   ]
  },
  {
   "cell_type": "code",
   "execution_count": 20,
   "metadata": {},
   "outputs": [
    {
     "data": {
      "image/png": "[encoded data removed]",
      "text/plain": [
       "<Figure size 576x576 with 2 Axes>"
      ]
     },
     "metadata": {
      "needs_background": "light"
     },
     "output_type": "display_data"
    }
   ],
   "source": [
    "# assign single classifier\n",
    "cf_clf = rf\n",
    "normalized = \"true\" # \"true\", \"all\" or None\n",
    "\n",
    "# Confusion matrix\n",
    "fig, cax = plt.subplots(figsize=(8, 8)) # subplot for larger size\n",
    "cax.set_title(str(cf_clf), fontsize=15)\n",
    "plot_confusion_matrix(estimator=cf_clf, X=X_test, y_true=y_test, cmap=plt.cm.Blues,normalize=normalized,values_format=\".2f\",ax=cax)\n",
    "\n",
    "plt.show()"
   ]
  }
 ],
 "metadata": {
  "interpreter": {
   "hash": "2b3eb31ce1614becdc450ec2390d8c8042f24cf7f310c376c5598f4b488704d2"
  },
  "kernelspec": {
   "display_name": "Python 3.8.3 64-bit ('venv': venv)",
   "name": "python3"
  },
  "language_info": {
   "codemirror_mode": {
    "name": "ipython",
    "version": 3
   },
   "file_extension": ".py",
   "mimetype": "text/x-python",
   "name": "python",
   "nbconvert_exporter": "python",
   "pygments_lexer": "ipython3",
   "version": "3.8.3"
  },
  "orig_nbformat": 4
 },
 "nbformat": 4,
 "nbformat_minor": 2
}
