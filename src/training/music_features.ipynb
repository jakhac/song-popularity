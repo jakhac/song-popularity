{
 "cells": [
  {
   "cell_type": "code",
   "execution_count": null,
   "metadata": {},
   "outputs": [],
   "source": [
    "import pandas as pd\n",
    "import numpy as np\n",
    "\n",
    "import os\n",
    "import sys\n",
    "from pathlib import Path\n",
    "from dotenv import load_dotenv\n",
    "from typing import List\n",
    "\n",
    "import matplotlib.pyplot as plt\n",
    "\n",
    "# RUS\n",
    "from collections import Counter\n",
    "from sklearn.datasets import make_classification\n",
    "from imblearn.under_sampling import RandomUnderSampler\n",
    "from imblearn.over_sampling import RandomOverSampler\n",
    "\n",
    "load_dotenv()\n",
    "\n",
    "DATA_PATH = Path(os.getenv(\"DATA_PATH\"))\n",
    "\n",
    "# only for .ipynb because relative imports don't work\n",
    "root_path = (DATA_PATH.parent) \n",
    "os.chdir(str(root_path))\n",
    " \n",
    "import src.database.db_interface as db\n",
    "import src.training.plotting as p\n",
    "import src.training.postprocessing as pp\n",
    "import src.training.pre_training as t\n",
    "\n",
    "from sklearn.metrics import accuracy_score, f1_score, precision_score, recall_score, plot_confusion_matrix\n",
    "from sklearn.model_selection import train_test_split\n",
    "\n",
    "# import models\n",
    "from sklearn.naive_bayes import GaussianNB\n",
    "from sklearn.neighbors import KNeighborsClassifier\n",
    "from sklearn.neural_network import MLPClassifier\n",
    "from sklearn.svm import SVC\n",
    "from sklearn.tree import DecisionTreeClassifier\n",
    "from sklearn.ensemble import RandomForestClassifier"
   ]
  },
  {
   "cell_type": "markdown",
   "metadata": {},
   "source": [
    "## Prepare Data"
   ]
  },
  {
   "cell_type": "code",
   "execution_count": null,
   "metadata": {
    "tags": []
   },
   "outputs": [],
   "source": [
    "df = t.get_music_df()\n",
    "\n",
    "X = df.values[:, :15]\n",
    "y = df[\"popularity\"].apply(lambda x: int(x / 10))\n",
    "\n",
    "original_distr = [plt.bar, {\"x\": list(set(y)), \"height\": list(pd.DataFrame(y).value_counts(sort=False))}, \"popularity classes\", \"sample count\", \"Original distribution of samples regarding popularity\"]\n",
    "\n",
    "plots = []\n",
    "plots.append(original_distr)\n",
    "\n",
    "# draw unifrom sample distribution\n",
    "# X, y = RandomUnderSampler(random_state=42).fit_resample(X,y)\n",
    "X, y = RandomOverSampler(random_state=42).fit_resample(X,y)\n",
    "\n",
    "uniform_distr = [plt.bar, {\"x\": list(set(y)), \"height\": list(pd.DataFrame(y).value_counts(sort=False))}, \"popularity classes\", \"sample count\", \"Uniform distribution of samples regarding popularity\"]\n",
    "\n",
    "plots.append(uniform_distr)\n",
    "\n",
    "# p.plots_from_list(\"Uniform distribution calc\", plots, \"music\", \"uni_calc_2\")\n",
    "\n",
    "X_train, X_test, y_train, y_test = train_test_split(\n",
    "    X, y, test_size=0.2, random_state=42\n",
    ")\n",
    "\n",
    "# print(X_train.shape)\n",
    "# print(X_test.shape)\n",
    "# print(X_test)"
   ]
  },
  {
   "cell_type": "markdown",
   "metadata": {},
   "source": [
    "## Gaussian Naive Bayes"
   ]
  },
  {
   "cell_type": "code",
   "execution_count": null,
   "metadata": {},
   "outputs": [],
   "source": [
    "print(\"Gaussian Naive Bayes\")\n",
    "gaussian_clf = GaussianNB()\n",
    "\n",
    "# fit the model\n",
    "gaussian_clf.fit(X_train, y_train)\n",
    "\n",
    "pp.print_metrics(gaussian_clf, X_test, y_test)"
   ]
  },
  {
   "cell_type": "markdown",
   "metadata": {},
   "source": [
    "## SVM"
   ]
  },
  {
   "cell_type": "code",
   "execution_count": null,
   "metadata": {},
   "outputs": [],
   "source": [
    "print(\"SVC\")\r\n",
    "svc_clf = SVC()\r\n",
    "\r\n",
    "# fit the model\r\n",
    "svc_clf.fit(X_train, y_train)\r\n",
    "\r\n",
    "pp.print_metrics(svc_clf, X_test, y_test)"
   ]
  },
  {
   "cell_type": "markdown",
   "metadata": {},
   "source": [
    "## Neural Network"
   ]
  },
  {
   "cell_type": "code",
   "execution_count": null,
   "metadata": {},
   "outputs": [],
   "source": [
    "print(\"Neural Network\")\r\n",
    "nn_clf = MLPClassifier()\r\n",
    "\r\n",
    "# fit the model\r\n",
    "nn_clf.fit(X_train, y_train)\r\n",
    "\r\n",
    "pp.print_metrics(nn_clf, X_test, y_test)"
   ]
  },
  {
   "cell_type": "markdown",
   "metadata": {},
   "source": [
    "## K-Neighbours Classifier"
   ]
  },
  {
   "cell_type": "code",
   "execution_count": null,
   "metadata": {},
   "outputs": [],
   "source": [
    "print(\"K-Neighbours Classifier\")\r\n",
    "knn_clf = KNeighborsClassifier()\r\n",
    "\r\n",
    "# fit the model\r\n",
    "knn_clf.fit(X_train, y_train)\r\n",
    "\r\n",
    "pp.print_metrics(knn_clf, X_test, y_test)"
   ]
  },
  {
   "cell_type": "markdown",
   "metadata": {},
   "source": [
    "## Decision Trees"
   ]
  },
  {
   "cell_type": "code",
   "execution_count": null,
   "metadata": {},
   "outputs": [],
   "source": [
    "print(\"Decision Trees\")\n",
    "dt_clf = DecisionTreeClassifier()\n",
    "\n",
    "# fit the model\n",
    "dt_clf.fit(X_train, y_train)\n",
    "\n",
    "pp.print_metrics(dt_clf, X_test, y_test)"
   ]
  },
  {
   "cell_type": "markdown",
   "metadata": {},
   "source": [
    "## Random forest"
   ]
  },
  {
   "cell_type": "code",
   "execution_count": null,
   "metadata": {},
   "outputs": [],
   "source": [
    "# use different number of trees in forest (comparing different hyperparameters)\r\n",
    "forest_size = [10,20,50,100]\r\n",
    "\r\n",
    "# set seed for random state to get compareable results in every execution (forest randomness)\r\n",
    "np.random.seed(500)\r\n",
    "\r\n",
    "for trees in forest_size:\r\n",
    "    # set forest size\r\n",
    "    print(\"Predicting with forest size \" + str(trees))\r\n",
    "    rf = RandomForestClassifier(n_estimators=trees)\r\n",
    "\r\n",
    "    # fit the model\r\n",
    "    rf.fit(X_train, y_train)\r\n",
    "\r\n",
    "    pp.print_metrics(rf, X_test, y_test)\r\n",
    "    print(\"--------\\n\")"
   ]
  },
  {
   "cell_type": "markdown",
   "metadata": {},
   "source": [
    "## Plotting"
   ]
  },
  {
   "cell_type": "code",
   "execution_count": null,
   "metadata": {},
   "outputs": [],
   "source": [
    "title = \"Dataset Music V1 + unpredicted popularity\"\n",
    "x = df[\"explict\"]\n",
    "y = df[\"popularity\"]\n",
    "p.disp_scatter(x, y, \"explicit\", \"popularity\", title)"
   ]
  },
  {
   "cell_type": "markdown",
   "metadata": {},
   "source": []
  },
  {
   "cell_type": "code",
   "execution_count": null,
   "metadata": {
    "tags": []
   },
   "outputs": [],
   "source": [
    "# plt.title(\"Dataset Music V1 + unpredicted popularity\")\n",
    "\n",
    "# plt.xlabel(\"popularity\")\n",
    "# plt.ylabel(\"song count\")\n",
    "# plt.bar(list(set(y_predict)),pp.count_distribution(y_predict))\n",
    "# plt.show()\n",
    "y_predict = dt_clf.predict(X_test)\n"
   ]
  },
  {
   "cell_type": "code",
   "execution_count": null,
   "metadata": {},
   "outputs": [],
   "source": [
    "# Confusion matrix\n",
    "fig, cax = plt.subplots(figsize=(16, 16)) # subplot for larger size\n",
    "plot_confusion_matrix(estimator=dt_clf, X=X_test, y_true=y_test, cmap=plt.cm.Blues,normalize=\"true\",values_format=\".2f\",ax=cax)\n",
    "\n",
    "plt.show()"
   ]
  },
  {
   "cell_type": "code",
   "execution_count": null,
   "metadata": {
    "tags": []
   },
   "outputs": [],
   "source": [
    "import src.training.postprocessing as pp\n",
    "\n",
    "dummy = [x, y, \"popularity\", \"song_count\", \"Plot Name\"]\n",
    "\n",
    "m = pp.get_metrics(knn_clf, X_test, y_test)\n",
    "\n",
    "plist = [].append((plt.scatter, {\"x\": x,\"y\": y,\"s\": 5, \"alpha\": 0.5}, \"xlabel\", \"ylabel\", \"p_name\"))\n",
    "\n",
    "y_lst = list(map(lambda x: len(x[1]),pd.DataFrame(y_test).groupby(0, as_index=True)))\n",
    "\n",
    "plist.append((plt.bar, {\"x\": list(range(0,10)),\"height\": y_lst}, \"popularity\", \"song count\", \"Dataset Music V1 + unpredicted popularity\"))\n",
    "\n",
    "p.plots_from_list(m, plist, \"music\", \"test_plots_from_list_16\")\n"
   ]
  }
 ],
 "metadata": {
  "interpreter": {
   "hash": "79c01d956d8d580ff50d5e99a3a6d3d709ffed313f15b1c7fdf81c9e53683cc0"
  },
  "kernelspec": {
   "display_name": "Python 3.8.3 64-bit ('venv': venv)",
   "name": "python383jvsc74a57bd02b3eb31ce1614becdc450ec2390d8c8042f24cf7f310c376c5598f4b488704d2",
   "language": "python"
  },
  "language_info": {
   "codemirror_mode": {
    "name": "ipython",
    "version": 3
   },
   "file_extension": ".py",
   "mimetype": "text/x-python",
   "name": "python",
   "nbconvert_exporter": "python",
   "pygments_lexer": "ipython3",
   "version": "3.8.3"
  },
  "orig_nbformat": 4
 },
 "nbformat": 4,
 "nbformat_minor": 2
}