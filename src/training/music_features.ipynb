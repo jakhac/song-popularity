{
 "cells": [
  {
   "source": [
    "# Music Feature Training Notebook"
   ],
   "cell_type": "markdown",
   "metadata": {}
  },
  {
   "source": [
    "## Imports"
   ],
   "cell_type": "markdown",
   "metadata": {}
  },
  {
   "cell_type": "code",
   "execution_count": null,
   "metadata": {},
   "outputs": [],
   "source": [
    "import pandas as pd\n",
    "import numpy as np\n",
    "\n",
    "import os\n",
    "import sys\n",
    "from pathlib import Path\n",
    "from dotenv import load_dotenv\n",
    "from typing import List\n",
    "\n",
    "import matplotlib.pyplot as plt\n",
    "import seaborn as sns\n",
    "\n",
    "from imblearn.under_sampling import RandomUnderSampler\n",
    "from imblearn.over_sampling import RandomOverSampler\n",
    "\n",
    "load_dotenv()\n",
    "\n",
    "DATA_PATH = Path(os.getenv(\"DATA_PATH\"))\n",
    "\n",
    "# only for .ipynb because relative imports don't work\n",
    "root_path = (DATA_PATH.parent) \n",
    "os.chdir(str(root_path))\n",
    " \n",
    "import src.training.plotting as p\n",
    "import src.training.postprocessing as pp\n",
    "import src.training.pre_training as t\n",
    "\n",
    "from sklearn.metrics import plot_confusion_matrix\n",
    "from sklearn.model_selection import train_test_split\n",
    "from sklearn.preprocessing import StandardScaler\n",
    "from sklearn.decomposition import PCA\n",
    "\n",
    "# import models\n",
    "from sklearn.naive_bayes import GaussianNB\n",
    "from sklearn.neighbors import KNeighborsClassifier\n",
    "from sklearn.neural_network import MLPClassifier\n",
    "from sklearn.svm import SVC\n",
    "from sklearn.tree import DecisionTreeClassifier\n",
    "from sklearn.ensemble import RandomForestClassifier"
   ]
  },
  {
   "source": [
    "# Preprocessing"
   ],
   "cell_type": "markdown",
   "metadata": {}
  },
  {
   "cell_type": "markdown",
   "metadata": {},
   "source": [
    "## Load Data"
   ]
  },
  {
   "cell_type": "code",
   "execution_count": null,
   "metadata": {
    "tags": []
   },
   "outputs": [],
   "source": [
    "df = t.get_music_df()\n",
    "\n",
    "# df2 = t.get_lyric_df()\n",
    "# df = df1.join(df2, on='song_id')\n",
    "# df = df1.merge(df2, 'ts.song_id')"
   ]
  },
  {
   "source": [
    "## Split data (X,y)\n",
    "Split data into sample values and sample classes"
   ],
   "cell_type": "markdown",
   "metadata": {}
  },
  {
   "cell_type": "code",
   "execution_count": null,
   "metadata": {},
   "outputs": [],
   "source": [
    "X = df.values[:, :15]\n",
    "y = df[\"popularity\"].apply(t.encode_popularity)\n",
    "\n",
    "# X = df[[\"explict\", \"danceability\", \"energy\", \"loadness\", \"mode\", \"speechiness\", \"acousticness\", \"instrumentalness\", \"liveness\", \"valence\"]]\n",
    "# X = df[[\"danceability\", \"energy\", \"loadness\"]]"
   ]
  },
  {
   "source": [
    "## Over-/Undersampling"
   ],
   "cell_type": "markdown",
   "metadata": {}
  },
  {
   "cell_type": "code",
   "execution_count": null,
   "metadata": {},
   "outputs": [],
   "source": [
    "# sampled and encoded popularity\n",
    "X, y = RandomUnderSampler(random_state=42).fit_resample(X, y)"
   ]
  },
  {
   "source": [
    "## PCA"
   ],
   "cell_type": "markdown",
   "metadata": {}
  },
  {
   "cell_type": "code",
   "execution_count": null,
   "metadata": {},
   "outputs": [],
   "source": [
    "# Dimensionality Reduction\n",
    "reduce_to = 15\n",
    "\n",
    "# PCA feature selection (TODO what does this do?)\n",
    "cols = pd.DataFrame(X).columns\n",
    "\n",
    "# Standardization of X\n",
    "scaler = StandardScaler()\n",
    "scaler.fit(X)\n",
    "X = scaler.transform(X)\n",
    "\n",
    "# apply PCA to X\n",
    "pca = PCA(n_components=reduce_to)\n",
    "pca.fit(X, y)\n",
    "X = pca.transform(X)\n",
    "\n",
    "print(\"Amount explained:\", sum(pca.explained_variance_ratio_))\n",
    "print(\"Amount explained in each PC:\", pca.explained_variance_ratio_)\n",
    "\n",
    "descr = [\"PC-\" + str(x) for x in range(1, reduce_to + 1)]\n",
    "print(pd.DataFrame(pca.components_, columns=cols, index=descr))"
   ]
  },
  {
   "cell_type": "markdown",
   "metadata": {},
   "source": [
    "## Feature Selection"
   ]
  },
  {
   "cell_type": "code",
   "execution_count": null,
   "metadata": {},
   "outputs": [],
   "source": [
    "# Pearson Correlation Coefficient\r\n",
    "pear_corr = df.corr(method='pearson')\r\n",
    "plt.imshow(pear_corr, cmap='hot')\r\n",
    "plt.show()"
   ]
  },
  {
   "cell_type": "code",
   "execution_count": null,
   "metadata": {},
   "outputs": [],
   "source": [
    "# TODO copy this to plotting notebook, plot only after PCA/feature selection here\n",
    "# TODO use correct X, y values\n",
    "# X_1, y_1 = RandomUnderSampler(random_state=42).fit_resample(df, y)\n",
    "\n",
    "# # Scale features\n",
    "# max_db = X_1['loadness'].max()\n",
    "# min_db = X_1['loadness'].min()\n",
    "# X_1['loadness'] = X_1['loadness'].apply(lambda x: abs(x/40))\n",
    "\n",
    "# # Drop features with range outside [0, 1]\n",
    "# X_1 = pd.DataFrame(X_1).drop(['key', 'time_signature', 'release_year', 'duration_ms', 'tempo'], axis=1)\n",
    "\n",
    "# fig = plt.figure(figsize = (20, 25))\n",
    "# j = 0\n",
    "# for i in pd.DataFrame(X_1).columns:\n",
    "#     plt.subplot(6, 4, j+1)\n",
    "#     j += 1\n",
    "\n",
    "#     sns.kdeplot(pd.DataFrame(X_1).query(\"popularity == 0\")[i], color='b', label='pop=0')\n",
    "#     sns.kdeplot(pd.DataFrame(X_1).query(\"popularity == 1\")[i], color='#000000', label='pop=1')\n",
    "#     sns.kdeplot(pd.DataFrame(X_1).query(\"popularity == 2\")[i], color='#ff5959', label='pop=2')\n",
    "#     sns.kdeplot(pd.DataFrame(X_1).query(\"popularity == 3\")[i], color='#fffd86', label='pop=3')\n",
    "#     sns.kdeplot(pd.DataFrame(X_1).query(\"popularity == 4\")[i], color='#a7e81c', label='pop=4')\n",
    "#     sns.kdeplot(pd.DataFrame(X_1).query(\"popularity == 5\")[i], color='#65bf65', label='pop=5')\n",
    "#     plt.legend(loc='best')\n",
    "#     plt.ylim(0, 17)\n",
    "#     plt.xlim(0, 1)\n",
    "\n",
    "# fig.suptitle('Density Analysis')\n",
    "# fig.tight_layout()\n",
    "# fig.subplots_adjust(top=0.95)\n",
    "# plt.show()"
   ]
  },
  {
   "source": [
    "## Train/Test-Split"
   ],
   "cell_type": "markdown",
   "metadata": {}
  },
  {
   "cell_type": "code",
   "execution_count": null,
   "metadata": {},
   "outputs": [],
   "source": [
    "X_train, X_test, y_train, y_test = train_test_split(\n",
    "    X, y, test_size=0.2, random_state=42\n",
    ")\n",
    "\n",
    "print(X_train.shape)\n",
    "print(X_test.shape)"
   ]
  },
  {
   "source": [
    "# Classification"
   ],
   "cell_type": "markdown",
   "metadata": {}
  },
  {
   "cell_type": "code",
   "execution_count": null,
   "metadata": {},
   "outputs": [],
   "source": [
    "# store classifiers for later plotting\n",
    "clf_list = []"
   ]
  },
  {
   "cell_type": "markdown",
   "metadata": {},
   "source": [
    "## Gaussian Naive Bayes"
   ]
  },
  {
   "cell_type": "code",
   "execution_count": null,
   "metadata": {},
   "outputs": [],
   "source": [
    "gaussian_clf = GaussianNB()\n",
    "\n",
    "# fit the model\n",
    "gaussian_clf.fit(X_train, y_train)\n",
    "clf_list.append(gaussian_clf)\n",
    "\n",
    "pp.print_metrics(gaussian_clf, X_test, y_test)"
   ]
  },
  {
   "cell_type": "markdown",
   "metadata": {},
   "source": [
    "## SVM"
   ]
  },
  {
   "cell_type": "code",
   "execution_count": null,
   "metadata": {},
   "outputs": [],
   "source": [
    "# svc_clf = SVC()\n",
    "\n",
    "# # fit the model\n",
    "# svc_clf.fit(X_train, y_train)\n",
    "# clf_list.append(svc_clf)\n",
    "\n",
    "# pp.print_metrics(svc_clf, X_test, y_test)"
   ]
  },
  {
   "cell_type": "markdown",
   "metadata": {},
   "source": [
    "## Neural Network"
   ]
  },
  {
   "cell_type": "code",
   "execution_count": null,
   "metadata": {},
   "outputs": [],
   "source": [
    "nn_clf = MLPClassifier()\n",
    "\n",
    "# fit the model\n",
    "nn_clf.fit(X_train, y_train)\n",
    "clf_list.append(nn_clf)\n",
    "\n",
    "pp.print_metrics(nn_clf, X_test, y_test)"
   ]
  },
  {
   "cell_type": "markdown",
   "metadata": {},
   "source": [
    "## K-Neighbours Classifier"
   ]
  },
  {
   "cell_type": "code",
   "execution_count": null,
   "metadata": {},
   "outputs": [],
   "source": [
    "knn_clf = KNeighborsClassifier()\n",
    "\n",
    "# fit the model\n",
    "knn_clf.fit(X_train, y_train)\n",
    "clf_list.append(knn_clf)\n",
    "\n",
    "pp.print_metrics(knn_clf, X_test, y_test)"
   ]
  },
  {
   "cell_type": "markdown",
   "metadata": {},
   "source": [
    "## Decision Trees"
   ]
  },
  {
   "cell_type": "code",
   "execution_count": null,
   "metadata": {},
   "outputs": [],
   "source": [
    "dt_clf = DecisionTreeClassifier()\n",
    "\n",
    "# fit the model\n",
    "dt_clf.fit(X_train, y_train)\n",
    "clf_list.append(dt_clf)\n",
    "\n",
    "pp.print_metrics(dt_clf, X_test, y_test)"
   ]
  },
  {
   "cell_type": "markdown",
   "metadata": {},
   "source": [
    "## Random Forest"
   ]
  },
  {
   "cell_type": "code",
   "execution_count": null,
   "metadata": {},
   "outputs": [],
   "source": [
    "# use different number of trees in forest \n",
    "forest_size = [10,50,100,250,500,1000]\n",
    "\n",
    "# set seed for random state to get compareable results in every execution (forest randomness)\n",
    "np.random.seed(500)\n",
    "\n",
    "for trees in forest_size:\n",
    "    # set forest size\n",
    "    print(\"Predicting with forest size \" + str(trees))\n",
    "    rf = RandomForestClassifier(n_estimators=trees)\n",
    "\n",
    "    # fit the model\n",
    "    rf.fit(X_train, y_train)\n",
    "    clf_list.append(rf)\n",
    "\n",
    "    pp.print_metrics(rf, X_test, y_test)\n",
    "    print(\"--------\\n\")"
   ]
  },
  {
   "source": [
    "# Model Evaluation"
   ],
   "cell_type": "markdown",
   "metadata": {}
  },
  {
   "source": [
    "## Metrics + Confusion Matrices"
   ],
   "cell_type": "markdown",
   "metadata": {}
  },
  {
   "cell_type": "code",
   "execution_count": null,
   "metadata": {},
   "outputs": [],
   "source": [
    " # generate list of plots for each clf: metrics, cf_matrix, cf_matrix_norm\n",
    " p_list = p.generate_model_plots(X_test, y_test, clf_list)"
   ]
  },
  {
   "source": [
    "## Save/display plots"
   ],
   "cell_type": "markdown",
   "metadata": {}
  },
  {
   "cell_type": "code",
   "execution_count": null,
   "metadata": {},
   "outputs": [],
   "source": [
    "# params\n",
    "save_plots = False\n",
    "n_cols = 3\n",
    "document_title = \"Random Forest up to 2000 trees\"\n",
    "document_folder = \"all\" # lyrics, model, artist, all\n",
    "\n",
    "# save/display plots as jpg\n",
    "p.plots_from_list(document_title, p_list, document_folder, cols=n_cols, save=save_plots)"
   ]
  },
  {
   "source": [
    "## Confusion Matrix for Single Classifier"
   ],
   "cell_type": "markdown",
   "metadata": {}
  },
  {
   "cell_type": "code",
   "execution_count": null,
   "metadata": {},
   "outputs": [],
   "source": [
    "# assign single classifier\n",
    "cf_clf = None\n",
    "normalized = \"true\" # \"true\", \"all\" or None\n",
    "\n",
    "# Confusion matrix\n",
    "fig, cax = plt.subplots(figsize=(16, 16)) # subplot for larger size\n",
    "cax.set_title(str(cf_clf), fontsize=15)\n",
    "plot_confusion_matrix(estimator=cf_clf, X=X_test, y_true=y_test, cmap=plt.cm.Blues,normalize=normalized,values_format=\".2f\",ax=cax)\n",
    "\n",
    "plt.show()"
   ]
  },
  {
   "source": [
    "## Scatter Plot"
   ],
   "cell_type": "markdown",
   "metadata": {}
  },
  {
   "cell_type": "code",
   "execution_count": null,
   "metadata": {},
   "outputs": [],
   "source": [
    "# Params\n",
    "sct_title = \"Title\"\n",
    "sct_x = None\n",
    "sct_xlabel = \"x-label\"\n",
    "sct_y = None\n",
    "sct_ylabel = \"y-label\"\n",
    "\n",
    "# show scatter plot\n",
    "plt.title(sct_title)\n",
    "plt.xlabel(sct_x)\n",
    "plt.ylabel(sct_y)\n",
    "plt.scatter(sct_x, sct_y, s=5, alpha=0.5)\n",
    "plt.show()\n",
    "\n",
    "# add scatter plot to plot list\n",
    "p_list.append((plt.scatter, {\"x\": sct_x, \"y\": sct_y, \"s\": 5, \"alpha\": 0.5}, sct_title, sct_xlabel, sct_ylabel))"
   ]
  },
  {
   "source": [
    "## Bar Plot"
   ],
   "cell_type": "markdown",
   "metadata": {}
  },
  {
   "cell_type": "code",
   "execution_count": null,
   "metadata": {},
   "outputs": [],
   "source": [
    "# Params\n",
    "bar_title = \"Title\"\n",
    "bar_x = None\n",
    "bar_xlabel = \"x-label\"\n",
    "bar_height = None\n",
    "bar_ylabel = \"y-label\"\n",
    "\n",
    "# show bar plot\n",
    "plt.title(sct_title)\n",
    "plt.xlabel(sct_x)\n",
    "plt.ylabel(sct_y)\n",
    "plt.bar(sct_x, sct_y)\n",
    "plt.show()\n",
    "\n",
    "# add bar plot to plot list\n",
    "p_list.append((plt.bar, {\"x\": bar_x, \"height\": bar_height}, bar_title, bar_xlabel, bar_ylabel))"
   ]
  },
  {
   "cell_type": "code",
   "execution_count": null,
   "metadata": {
    "tags": []
   },
   "outputs": [],
   "source": [
    "import src.training.postprocessing as pp\n",
    "\n",
    "dummy = [x, y, \"popularity\", \"song_count\", \"Plot Name\"]\n",
    "\n",
    "m = pp.get_metrics(knn_clf, X_test, y_test)\n",
    "\n",
    "plist = [].append((plt.scatter, {\"x\": x,\"y\": y,\"s\": 5, \"alpha\": 0.5}, \"xlabel\", \"ylabel\", \"p_name\"))\n",
    "\n",
    "y_lst = list(map(lambda x: len(x[1]),pd.DataFrame(y_test).groupby(0, as_index=True)))\n",
    "\n",
    "plist.append((plt.bar, {\"x\": list(range(0,10)),\"height\": y_lst}, \"Dataset Music V1 + unpredicted popularity\", \"popularity\", \"song count\"))\n",
    "\n",
    "p.plots_from_list(m, plist, \"music\", \"test_plots_from_list_16\")\n"
   ]
  }
 ],
 "metadata": {
  "interpreter": {
   "hash": "b7762889cc7ac9bab6d2177d92d49475268501662fac0015d8eb9fc80722ae83"
  },
  "language_info": {
   "codemirror_mode": {
    "name": "ipython",
    "version": 3
   },
   "file_extension": ".py",
   "mimetype": "text/x-python",
   "name": "python",
   "nbconvert_exporter": "python",
   "pygments_lexer": "ipython3",
   "version": "3.8.3"
  },
  "orig_nbformat": 4
 },
 "nbformat": 4,
 "nbformat_minor": 2
}