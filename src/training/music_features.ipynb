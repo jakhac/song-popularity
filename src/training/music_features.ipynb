{
 "cells": [
  {
   "cell_type": "markdown",
   "source": [
    "# Music Feature Training Notebook"
   ],
   "metadata": {}
  },
  {
   "cell_type": "markdown",
   "source": [
    "## Imports"
   ],
   "metadata": {}
  },
  {
   "cell_type": "code",
   "execution_count": 1,
   "source": [
    "import pandas as pd\r\n",
    "import numpy as np\r\n",
    "\r\n",
    "import os\r\n",
    "import sys\r\n",
    "from pathlib import Path\r\n",
    "from dotenv import load_dotenv\r\n",
    "from typing import List\r\n",
    "\r\n",
    "import matplotlib.pyplot as plt\r\n",
    "import seaborn as sns\r\n",
    "\r\n",
    "from imblearn.under_sampling import RandomUnderSampler\r\n",
    "from imblearn.over_sampling import RandomOverSampler\r\n",
    "\r\n",
    "load_dotenv()\r\n",
    "\r\n",
    "DATA_PATH = Path(os.getenv(\"DATA_PATH\"))\r\n",
    "\r\n",
    "# only for .ipynb because relative imports don't work\r\n",
    "root_path = (DATA_PATH.parent) \r\n",
    "os.chdir(str(root_path))\r\n",
    " \r\n",
    "import src.training.plotting as p\r\n",
    "import src.training.postprocessing as pp\r\n",
    "import src.training.pre_training as t\r\n",
    "\r\n",
    "from sklearn.metrics import plot_confusion_matrix\r\n",
    "from sklearn.model_selection import train_test_split\r\n",
    "from sklearn.preprocessing import StandardScaler\r\n",
    "from sklearn.decomposition import PCA\r\n",
    "\r\n",
    "# import models\r\n",
    "from sklearn.naive_bayes import GaussianNB\r\n",
    "from sklearn.neighbors import KNeighborsClassifier\r\n",
    "from sklearn.neural_network import MLPClassifier\r\n",
    "from sklearn.svm import SVC\r\n",
    "from sklearn.tree import DecisionTreeClassifier\r\n",
    "from sklearn.ensemble import RandomForestClassifier"
   ],
   "outputs": [],
   "metadata": {}
  },
  {
   "cell_type": "markdown",
   "source": [
    "# Preprocessing"
   ],
   "metadata": {}
  },
  {
   "cell_type": "markdown",
   "source": [
    "## Load Data"
   ],
   "metadata": {}
  },
  {
   "cell_type": "code",
   "execution_count": 2,
   "source": [
    "df = t.get_music_df()\r\n",
    "\r\n",
    "# df2 = t.get_lyric_df()\r\n",
    "# df = df1.join(df2, on='song_id')\r\n",
    "# df = df1.merge(df2, 'ts.song_id')"
   ],
   "outputs": [],
   "metadata": {
    "tags": []
   }
  },
  {
   "cell_type": "markdown",
   "source": [
    "## Split data (X,y)\n",
    "Split data into sample values and sample classes"
   ],
   "metadata": {}
  },
  {
   "cell_type": "code",
   "execution_count": 3,
   "source": [
    "X = df.values[:, :15]\r\n",
    "y = df[\"popularity\"].apply(t.encode_popularity)\r\n",
    "\r\n",
    "# X = df[[\"explict\", \"danceability\", \"energy\", \"loadness\", \"mode\", \"speechiness\", \"acousticness\", \"instrumentalness\", \"liveness\", \"valence\"]]\r\n",
    "# X = df[[\"danceability\", \"energy\", \"loadness\"]]"
   ],
   "outputs": [],
   "metadata": {}
  },
  {
   "cell_type": "markdown",
   "source": [
    "## Over-/Undersampling"
   ],
   "metadata": {}
  },
  {
   "cell_type": "code",
   "execution_count": 4,
   "source": [
    "# sampled and encoded popularity\r\n",
    "X, y = RandomUnderSampler(random_state=42).fit_resample(X, y)"
   ],
   "outputs": [],
   "metadata": {}
  },
  {
   "cell_type": "markdown",
   "source": [
    "## PCA"
   ],
   "metadata": {}
  },
  {
   "cell_type": "code",
   "execution_count": 5,
   "source": [
    "# Dimensionality Reduction\r\n",
    "reduce_to = 15\r\n",
    "\r\n",
    "# PCA feature selection (TODO what does this do?)\r\n",
    "cols = pd.DataFrame(X).columns\r\n",
    "\r\n",
    "# Standardization of X\r\n",
    "scaler = StandardScaler()\r\n",
    "scaler.fit(X)\r\n",
    "X = scaler.transform(X)\r\n",
    "\r\n",
    "# apply PCA to X\r\n",
    "pca = PCA(n_components=reduce_to)\r\n",
    "pca.fit(X, y)\r\n",
    "X = pca.transform(X)\r\n",
    "\r\n",
    "print(\"Amount explained:\", sum(pca.explained_variance_ratio_))\r\n",
    "print(\"Amount explained in each PC:\", pca.explained_variance_ratio_)\r\n",
    "\r\n",
    "descr = [\"PC-\" + str(x) for x in range(1, reduce_to + 1)]\r\n",
    "print(pd.DataFrame(pca.components_, columns=cols, index=descr))"
   ],
   "outputs": [
    {
     "output_type": "stream",
     "name": "stdout",
     "text": [
      "Amount explained: 1.0\n",
      "Amount explained in each PC: [0.17174525 0.1236077  0.08762937 0.0784639  0.07533546 0.06928971\n",
      " 0.06548365 0.06183017 0.05993097 0.0532027  0.0487471  0.03715936\n",
      " 0.02962022 0.02671915 0.0112353 ]\n",
      "             0         1         2         3         4         5         6   \\\n",
      "PC-1   0.066951 -0.142523  0.016182 -0.136322 -0.540403 -0.051789 -0.502772   \n",
      "PC-2  -0.316209  0.370659  0.250687  0.511615 -0.230303  0.065664 -0.133010   \n",
      "PC-3   0.000946  0.466824  0.250756 -0.308147 -0.011636  0.028628 -0.023916   \n",
      "PC-4   0.408596 -0.002322 -0.097186  0.169931 -0.019876  0.416773 -0.176336   \n",
      "PC-5   0.434070  0.268508 -0.574625  0.009237 -0.071881 -0.113611  0.020078   \n",
      "PC-6  -0.194087 -0.146877 -0.139770 -0.138351 -0.036911  0.666145  0.088987   \n",
      "PC-7   0.117344  0.129340 -0.383180  0.068245 -0.033486 -0.006737 -0.056369   \n",
      "PC-8  -0.088887 -0.072109 -0.022023  0.158410  0.043683 -0.150780 -0.210180   \n",
      "PC-9   0.090792  0.020391  0.171731  0.136914  0.038521 -0.370761  0.185657   \n",
      "PC-10  0.004383  0.164657  0.159179  0.026561  0.121383  0.432370  0.120979   \n",
      "PC-11  0.632267 -0.050304  0.470111  0.293263 -0.103893  0.105451 -0.012912   \n",
      "PC-12  0.118850 -0.631602  0.159961 -0.123947  0.082903 -0.042225  0.054616   \n",
      "PC-13  0.241875  0.270531  0.214336 -0.461622  0.196154 -0.041285  0.184753   \n",
      "PC-14 -0.008300  0.080068  0.139644 -0.418833 -0.026719  0.004317 -0.559014   \n",
      "PC-15  0.009889  0.013923 -0.025837  0.193712  0.756149  0.003973 -0.493257   \n",
      "\n",
      "             7         8         9         10        11        12        13  \\\n",
      "PC-1   0.145720 -0.178161  0.488387  0.084502 -0.084081 -0.251775 -0.129657   \n",
      "PC-2  -0.091800  0.357920  0.175903 -0.191842 -0.197630  0.264597 -0.195614   \n",
      "PC-3  -0.160215  0.434457  0.023199  0.044707  0.262922 -0.481142  0.275494   \n",
      "PC-4  -0.543275  0.058693 -0.090672  0.490089 -0.074454 -0.020105 -0.146641   \n",
      "PC-5   0.146114  0.243889  0.027098 -0.329239  0.240917 -0.010574 -0.373049   \n",
      "PC-6  -0.219392 -0.075143  0.148959 -0.438086  0.166086  0.103750 -0.003412   \n",
      "PC-7   0.130062  0.184834 -0.037051  0.087895 -0.532277  0.166963  0.501268   \n",
      "PC-8   0.081481  0.123857  0.027730  0.368720  0.626009  0.434781  0.028774   \n",
      "PC-9  -0.340212 -0.166958 -0.135835 -0.084406 -0.164930 -0.162559 -0.402642   \n",
      "PC-10  0.636194  0.013463 -0.138763  0.293551 -0.110719 -0.141511 -0.380743   \n",
      "PC-11  0.172048 -0.125541 -0.061891 -0.311599  0.139261  0.085063  0.305341   \n",
      "PC-12  0.038197  0.693345  0.083630 -0.051742 -0.144929  0.003647 -0.143991   \n",
      "PC-13 -0.066867 -0.073040  0.490189  0.096194 -0.151885  0.489321 -0.113438   \n",
      "PC-14 -0.015416  0.013847 -0.578265 -0.199550 -0.113616  0.274590 -0.149388   \n",
      "PC-15  0.015127 -0.057025  0.271121 -0.166527 -0.050336 -0.195893 -0.003430   \n",
      "\n",
      "             14  \n",
      "PC-1  -0.151502  \n",
      "PC-2   0.106650  \n",
      "PC-3  -0.170977  \n",
      "PC-4   0.122801  \n",
      "PC-5   0.058716  \n",
      "PC-6  -0.377892  \n",
      "PC-7  -0.437069  \n",
      "PC-8  -0.389935  \n",
      "PC-9  -0.620279  \n",
      "PC-10 -0.207151  \n",
      "PC-11 -0.049715  \n",
      "PC-12 -0.027502  \n",
      "PC-13  0.015586  \n",
      "PC-14 -0.010193  \n",
      "PC-15 -0.028255  \n"
     ]
    }
   ],
   "metadata": {}
  },
  {
   "cell_type": "markdown",
   "source": [
    "## Feature Selection"
   ],
   "metadata": {}
  },
  {
   "cell_type": "code",
   "execution_count": 6,
   "source": [
    "# Pearson Correlation Coefficient\r\n",
    "pear_corr = df.corr(method='pearson')\r\n",
    "plt.imshow(pear_corr, cmap='hot')\r\n",
    "plt.show()"
   ],
   "outputs": [
    {
     "output_type": "display_data",
     "data": {
      "text/plain": [
       "<Figure size 432x288 with 1 Axes>"
      ],
      "image/png": "[encoded data removed]"
     },
     "metadata": {
      "needs_background": "light"
     }
    }
   ],
   "metadata": {}
  },
  {
   "cell_type": "code",
   "execution_count": 7,
   "source": [
    "# TODO copy this to plotting notebook, plot only after PCA/feature selection here\r\n",
    "# TODO use correct X, y values\r\n",
    "# X_1, y_1 = RandomUnderSampler(random_state=42).fit_resample(df, y)\r\n",
    "\r\n",
    "# # Scale features\r\n",
    "# max_db = X_1['loadness'].max()\r\n",
    "# min_db = X_1['loadness'].min()\r\n",
    "# X_1['loadness'] = X_1['loadness'].apply(lambda x: abs(x/40))\r\n",
    "\r\n",
    "# # Drop features with range outside [0, 1]\r\n",
    "# X_1 = pd.DataFrame(X_1).drop(['key', 'time_signature', 'release_year', 'duration_ms', 'tempo'], axis=1)\r\n",
    "\r\n",
    "# fig = plt.figure(figsize = (20, 25))\r\n",
    "# j = 0\r\n",
    "# for i in pd.DataFrame(X_1).columns:\r\n",
    "#     plt.subplot(6, 4, j+1)\r\n",
    "#     j += 1\r\n",
    "\r\n",
    "#     sns.kdeplot(pd.DataFrame(X_1).query(\"popularity == 0\")[i], color='b', label='pop=0')\r\n",
    "#     sns.kdeplot(pd.DataFrame(X_1).query(\"popularity == 1\")[i], color='#000000', label='pop=1')\r\n",
    "#     sns.kdeplot(pd.DataFrame(X_1).query(\"popularity == 2\")[i], color='#ff5959', label='pop=2')\r\n",
    "#     sns.kdeplot(pd.DataFrame(X_1).query(\"popularity == 3\")[i], color='#fffd86', label='pop=3')\r\n",
    "#     sns.kdeplot(pd.DataFrame(X_1).query(\"popularity == 4\")[i], color='#a7e81c', label='pop=4')\r\n",
    "#     sns.kdeplot(pd.DataFrame(X_1).query(\"popularity == 5\")[i], color='#65bf65', label='pop=5')\r\n",
    "#     plt.legend(loc='best')\r\n",
    "#     plt.ylim(0, 17)\r\n",
    "#     plt.xlim(0, 1)\r\n",
    "\r\n",
    "# fig.suptitle('Density Analysis')\r\n",
    "# fig.tight_layout()\r\n",
    "# fig.subplots_adjust(top=0.95)\r\n",
    "# plt.show()"
   ],
   "outputs": [],
   "metadata": {}
  },
  {
   "cell_type": "markdown",
   "source": [
    "## Train/Test-Split"
   ],
   "metadata": {}
  },
  {
   "cell_type": "code",
   "execution_count": 8,
   "source": [
    "X_train, X_test, y_train, y_test = train_test_split(\r\n",
    "    X, y, test_size=0.2, random_state=42\r\n",
    ")\r\n",
    "\r\n",
    "print(X_train.shape)\r\n",
    "print(X_test.shape)"
   ],
   "outputs": [
    {
     "output_type": "stream",
     "name": "stdout",
     "text": [
      "(4868, 15)\n",
      "(1218, 15)\n"
     ]
    }
   ],
   "metadata": {}
  },
  {
   "cell_type": "markdown",
   "source": [
    "# Classification"
   ],
   "metadata": {}
  },
  {
   "cell_type": "code",
   "execution_count": 9,
   "source": [
    "# store classifiers for later plotting\r\n",
    "clf_list = []"
   ],
   "outputs": [],
   "metadata": {}
  },
  {
   "cell_type": "markdown",
   "source": [
    "## Gaussian Naive Bayes"
   ],
   "metadata": {}
  },
  {
   "cell_type": "code",
   "execution_count": 10,
   "source": [
    "gaussian_clf = GaussianNB()\r\n",
    "\r\n",
    "# fit the model\r\n",
    "gaussian_clf.fit(X_train, y_train)\r\n",
    "clf_list.append(gaussian_clf)\r\n",
    "\r\n",
    "pp.print_metrics(gaussian_clf, X_test, y_test)"
   ],
   "outputs": [
    {
     "output_type": "stream",
     "name": "stdout",
     "text": [
      "Weighted accuracy: 0.6232\n",
      "Weighted f1: 0.609\n",
      "Weighted recall: 0.6232\n",
      "Weighted precision: 0.653\n",
      "Contained classes in prediction: {0, 1}\n",
      "Contained classes in test: {0, 1}\n"
     ]
    }
   ],
   "metadata": {}
  },
  {
   "cell_type": "markdown",
   "source": [
    "## SVM"
   ],
   "metadata": {}
  },
  {
   "cell_type": "code",
   "execution_count": 11,
   "source": [
    "# svc_clf = SVC()\r\n",
    "\r\n",
    "# # fit the model\r\n",
    "# svc_clf.fit(X_train, y_train)\r\n",
    "# clf_list.append(svc_clf)\r\n",
    "\r\n",
    "# pp.print_metrics(svc_clf, X_test, y_test)"
   ],
   "outputs": [],
   "metadata": {}
  },
  {
   "cell_type": "markdown",
   "source": [
    "## Neural Network"
   ],
   "metadata": {}
  },
  {
   "cell_type": "code",
   "execution_count": 12,
   "source": [
    "nn_clf = MLPClassifier()\r\n",
    "\r\n",
    "# fit the model\r\n",
    "nn_clf.fit(X_train, y_train)\r\n",
    "clf_list.append(nn_clf)\r\n",
    "\r\n",
    "pp.print_metrics(nn_clf, X_test, y_test)"
   ],
   "outputs": [
    {
     "output_type": "stream",
     "name": "stdout",
     "text": [
      "Weighted accuracy: 0.6741\n",
      "Weighted f1: 0.674\n",
      "Weighted recall: 0.6741\n",
      "Weighted precision: 0.6756\n",
      "Contained classes in prediction: {0, 1}\n",
      "Contained classes in test: {0, 1}\n"
     ]
    },
    {
     "output_type": "stream",
     "name": "stderr",
     "text": [
      "f:\\SmartGit-Repositories\\song-popularity\\venv\\lib\\site-packages\\sklearn\\neural_network\\_multilayer_perceptron.py:614: ConvergenceWarning: Stochastic Optimizer: Maximum iterations (200) reached and the optimization hasn't converged yet.\n",
      "  warnings.warn(\n"
     ]
    }
   ],
   "metadata": {}
  },
  {
   "cell_type": "markdown",
   "source": [
    "## K-Neighbours Classifier"
   ],
   "metadata": {}
  },
  {
   "cell_type": "code",
   "execution_count": 13,
   "source": [
    "knn_clf = KNeighborsClassifier()\r\n",
    "\r\n",
    "# fit the model\r\n",
    "knn_clf.fit(X_train, y_train)\r\n",
    "clf_list.append(knn_clf)\r\n",
    "\r\n",
    "pp.print_metrics(knn_clf, X_test, y_test)"
   ],
   "outputs": [
    {
     "output_type": "stream",
     "name": "stdout",
     "text": [
      "Weighted accuracy: 0.6363\n",
      "Weighted f1: 0.6356\n",
      "Weighted recall: 0.6363\n",
      "Weighted precision: 0.6397\n",
      "Contained classes in prediction: {0, 1}\n",
      "Contained classes in test: {0, 1}\n"
     ]
    }
   ],
   "metadata": {}
  },
  {
   "cell_type": "markdown",
   "source": [
    "## Decision Trees"
   ],
   "metadata": {}
  },
  {
   "cell_type": "code",
   "execution_count": 14,
   "source": [
    "dt_clf = DecisionTreeClassifier()\r\n",
    "\r\n",
    "# fit the model\r\n",
    "dt_clf.fit(X_train, y_train)\r\n",
    "clf_list.append(dt_clf)\r\n",
    "\r\n",
    "pp.print_metrics(dt_clf, X_test, y_test)"
   ],
   "outputs": [
    {
     "output_type": "stream",
     "name": "stdout",
     "text": [
      "Weighted accuracy: 0.5509\n",
      "Weighted f1: 0.5509\n",
      "Weighted recall: 0.5509\n",
      "Weighted precision: 0.5518\n",
      "Contained classes in prediction: {0, 1}\n",
      "Contained classes in test: {0, 1}\n"
     ]
    }
   ],
   "metadata": {}
  },
  {
   "cell_type": "markdown",
   "source": [
    "## Random Forest"
   ],
   "metadata": {}
  },
  {
   "cell_type": "code",
   "execution_count": 15,
   "source": [
    "# use different number of trees in forest \r\n",
    "forest_size = [10,50,100,250,500,1000]\r\n",
    "\r\n",
    "# set seed for random state to get compareable results in every execution (forest randomness)\r\n",
    "np.random.seed(500)\r\n",
    "\r\n",
    "for trees in forest_size:\r\n",
    "    # set forest size\r\n",
    "    print(\"Predicting with forest size \" + str(trees))\r\n",
    "    rf = RandomForestClassifier(n_estimators=trees)\r\n",
    "\r\n",
    "    # fit the model\r\n",
    "    rf.fit(X_train, y_train)\r\n",
    "    clf_list.append(rf)\r\n",
    "\r\n",
    "    pp.print_metrics(rf, X_test, y_test)\r\n",
    "    print(\"--------\\n\")"
   ],
   "outputs": [
    {
     "output_type": "stream",
     "name": "stdout",
     "text": [
      "Predicting with forest size 10\n",
      "Weighted accuracy: 0.5895\n",
      "Weighted f1: 0.5861\n",
      "Weighted recall: 0.5895\n",
      "Weighted precision: 0.5898\n",
      "Contained classes in prediction: {0, 1}\n",
      "Contained classes in test: {0, 1}\n",
      "--------\n",
      "\n",
      "Predicting with forest size 50\n",
      "Weighted accuracy: 0.656\n",
      "Weighted f1: 0.656\n",
      "Weighted recall: 0.656\n",
      "Weighted precision: 0.657\n",
      "Contained classes in prediction: {0, 1}\n",
      "Contained classes in test: {0, 1}\n",
      "--------\n",
      "\n",
      "Predicting with forest size 100\n",
      "Weighted accuracy: 0.6617\n",
      "Weighted f1: 0.6614\n",
      "Weighted recall: 0.6617\n",
      "Weighted precision: 0.6643\n",
      "Contained classes in prediction: {0, 1}\n",
      "Contained classes in test: {0, 1}\n",
      "--------\n",
      "\n",
      "Predicting with forest size 250\n",
      "Weighted accuracy: 0.6617\n",
      "Weighted f1: 0.6609\n",
      "Weighted recall: 0.6617\n",
      "Weighted precision: 0.6659\n",
      "Contained classes in prediction: {0, 1}\n",
      "Contained classes in test: {0, 1}\n",
      "--------\n",
      "\n",
      "Predicting with forest size 500\n",
      "Weighted accuracy: 0.6461\n",
      "Weighted f1: 0.6453\n",
      "Weighted recall: 0.6461\n",
      "Weighted precision: 0.65\n",
      "Contained classes in prediction: {0, 1}\n",
      "Contained classes in test: {0, 1}\n",
      "--------\n",
      "\n",
      "Predicting with forest size 1000\n",
      "Weighted accuracy: 0.6576\n",
      "Weighted f1: 0.6567\n",
      "Weighted recall: 0.6576\n",
      "Weighted precision: 0.6622\n",
      "Contained classes in prediction: {0, 1}\n",
      "Contained classes in test: {0, 1}\n",
      "--------\n",
      "\n"
     ]
    }
   ],
   "metadata": {}
  },
  {
   "cell_type": "markdown",
   "source": [
    "## Ensemble"
   ],
   "metadata": {}
  },
  {
   "cell_type": "code",
   "execution_count": 23,
   "source": [
    "from sklearn.experimental import enable_hist_gradient_boosting \r\n",
    "from sklearn.ensemble import VotingClassifier, AdaBoostClassifier, BaggingClassifier, HistGradientBoostingClassifier\r\n",
    "\r\n",
    "# ens_clf = VotingClassifier(estimators=[\r\n",
    "#     ('gauss', GaussianNB()), ('knn', KNeighborsClassifier()), ('rf', RandomForestClassifier())\r\n",
    "# ])\r\n",
    "\r\n",
    "ens_clf = AdaBoostClassifier(base_estimator=GaussianNB(), \r\n",
    "    n_estimators=25, random_state=42)\r\n",
    "\r\n",
    "ens_clf.fit(X_train, y_train)\r\n",
    "\r\n",
    "pp.print_metrics(ens_clf, X_test, y_test)"
   ],
   "outputs": [
    {
     "output_type": "stream",
     "name": "stdout",
     "text": [
      "Weighted accuracy: 0.5493\n",
      "Weighted f1: 0.5493\n",
      "Weighted recall: 0.5493\n",
      "Weighted precision: 0.5495\n",
      "Contained classes in prediction: {0, 1}\n",
      "Contained classes in test: {0, 1}\n"
     ]
    }
   ],
   "metadata": {}
  },
  {
   "cell_type": "markdown",
   "source": [
    "# Model Evaluation"
   ],
   "metadata": {}
  },
  {
   "cell_type": "markdown",
   "source": [
    "## Store models to .mdl file"
   ],
   "metadata": {}
  },
  {
   "cell_type": "code",
   "execution_count": null,
   "source": [
    "# pp.store_model_to_file(rf, \"rf_size=1000_prec=41\", \"music\")"
   ],
   "outputs": [],
   "metadata": {}
  },
  {
   "cell_type": "markdown",
   "source": [
    "## Metrics + Confusion Matrices"
   ],
   "metadata": {}
  },
  {
   "cell_type": "code",
   "execution_count": null,
   "source": [
    " # generate list of plots for each clf: metrics, cf_matrix, cf_matrix_norm\r\n",
    " p_list = p.generate_model_plots(X_test, y_test, clf_list)"
   ],
   "outputs": [],
   "metadata": {}
  },
  {
   "cell_type": "markdown",
   "source": [
    "## Save/display plots"
   ],
   "metadata": {}
  },
  {
   "cell_type": "code",
   "execution_count": null,
   "source": [
    "# params\r\n",
    "save_plots = False\r\n",
    "n_cols = 3\r\n",
    "document_title = \"Random Forest up to 2000 trees\"\r\n",
    "document_folder = \"all\" # lyrics, model, artist, all\r\n",
    "\r\n",
    "# save/display plots as jpg\r\n",
    "p.plots_from_list(document_title, p_list, document_folder, cols=n_cols, save=save_plots)"
   ],
   "outputs": [],
   "metadata": {}
  },
  {
   "cell_type": "markdown",
   "source": [
    "## Confusion Matrix for Single Classifier"
   ],
   "metadata": {}
  },
  {
   "cell_type": "code",
   "execution_count": null,
   "source": [
    "# assign single classifier\r\n",
    "cf_clf = None\r\n",
    "normalized = \"true\" # \"true\", \"all\" or None\r\n",
    "\r\n",
    "# Confusion matrix\r\n",
    "fig, cax = plt.subplots(figsize=(16, 16)) # subplot for larger size\r\n",
    "cax.set_title(str(cf_clf), fontsize=15)\r\n",
    "plot_confusion_matrix(estimator=cf_clf, X=X_test, y_true=y_test, cmap=plt.cm.Blues,normalize=normalized,values_format=\".2f\",ax=cax)\r\n",
    "\r\n",
    "plt.show()"
   ],
   "outputs": [],
   "metadata": {}
  },
  {
   "cell_type": "markdown",
   "source": [
    "## Scatter Plot"
   ],
   "metadata": {}
  },
  {
   "cell_type": "code",
   "execution_count": null,
   "source": [
    "# Params\r\n",
    "sct_title = \"Title\"\r\n",
    "sct_x = None\r\n",
    "sct_xlabel = \"x-label\"\r\n",
    "sct_y = None\r\n",
    "sct_ylabel = \"y-label\"\r\n",
    "\r\n",
    "# show scatter plot\r\n",
    "plt.title(sct_title)\r\n",
    "plt.xlabel(sct_x)\r\n",
    "plt.ylabel(sct_y)\r\n",
    "plt.scatter(sct_x, sct_y, s=5, alpha=0.5)\r\n",
    "plt.show()\r\n",
    "\r\n",
    "# add scatter plot to plot list\r\n",
    "p_list.append((plt.scatter, {\"x\": sct_x, \"y\": sct_y, \"s\": 5, \"alpha\": 0.5}, sct_title, sct_xlabel, sct_ylabel))"
   ],
   "outputs": [],
   "metadata": {}
  },
  {
   "cell_type": "markdown",
   "source": [
    "## Bar Plot"
   ],
   "metadata": {}
  },
  {
   "cell_type": "code",
   "execution_count": null,
   "source": [
    "# Params\r\n",
    "bar_title = \"Title\"\r\n",
    "bar_x = None\r\n",
    "bar_xlabel = \"x-label\"\r\n",
    "bar_height = None\r\n",
    "bar_ylabel = \"y-label\"\r\n",
    "\r\n",
    "# show bar plot\r\n",
    "plt.title(sct_title)\r\n",
    "plt.xlabel(sct_x)\r\n",
    "plt.ylabel(sct_y)\r\n",
    "plt.bar(sct_x, sct_y)\r\n",
    "plt.show()\r\n",
    "\r\n",
    "# add bar plot to plot list\r\n",
    "p_list.append((plt.bar, {\"x\": bar_x, \"height\": bar_height}, bar_title, bar_xlabel, bar_ylabel))"
   ],
   "outputs": [],
   "metadata": {}
  },
  {
   "cell_type": "code",
   "execution_count": null,
   "source": [
    "# import src.training.postprocessing as pp\r\n",
    "\r\n",
    "# dummy = [x, y, \"popularity\", \"song_count\", \"Plot Name\"]\r\n",
    "\r\n",
    "# m = pp.get_metrics(knn_clf, X_test, y_test)\r\n",
    "\r\n",
    "# plist = [].append((plt.scatter, {\"x\": x,\"y\": y,\"s\": 5, \"alpha\": 0.5}, \"xlabel\", \"ylabel\", \"p_name\"))\r\n",
    "\r\n",
    "# y_lst = list(map(lambda x: len(x[1]),pd.DataFrame(y_test).groupby(0, as_index=True)))\r\n",
    "\r\n",
    "# plist.append((plt.bar, {\"x\": list(range(0,10)),\"height\": y_lst}, \"Dataset Music V1 + unpredicted popularity\", \"popularity\", \"song count\"))\r\n",
    "\r\n",
    "# p.plots_from_list(m, plist, \"music\", \"test_plots_from_list_16\")\r\n"
   ],
   "outputs": [],
   "metadata": {
    "tags": []
   }
  }
 ],
 "metadata": {
  "interpreter": {
   "hash": "b7762889cc7ac9bab6d2177d92d49475268501662fac0015d8eb9fc80722ae83"
  },
  "language_info": {
   "codemirror_mode": {
    "name": "ipython",
    "version": 3
   },
   "file_extension": ".py",
   "mimetype": "text/x-python",
   "name": "python",
   "nbconvert_exporter": "python",
   "pygments_lexer": "ipython3",
   "version": "3.8.3"
  },
  "orig_nbformat": 4
 },
 "nbformat": 4,
 "nbformat_minor": 2
}