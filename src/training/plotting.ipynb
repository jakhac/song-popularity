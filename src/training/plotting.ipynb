{
 "cells": [
  {
   "cell_type": "markdown",
   "metadata": {},
   "source": [
    "## Imports"
   ]
  },
  {
   "cell_type": "code",
   "execution_count": null,
   "metadata": {},
   "outputs": [],
   "source": [
    "import os, sys\r\n",
    "from pathlib import Path\r\n",
    "from dotenv import load_dotenv\r\n",
    "import pandas as pd\r\n",
    "\r\n",
    "load_dotenv()\r\n",
    "\r\n",
    "DATA_PATH = Path(os.getenv(\"DATA_PATH\"))\r\n",
    "\r\n",
    "# only for .ipynb because relative imports don't work\r\n",
    "root_path = (DATA_PATH.parent) \r\n",
    "os.chdir(str(root_path))\r\n",
    "\r\n",
    "import src.training.plotting as p\r\n",
    "import src.training.pre_training as t\r\n",
    "import src.training.postprocessing as pp\r\n",
    "\r\n",
    "from imblearn.under_sampling import RandomUnderSampler\r\n",
    "import matplotlib.pyplot as plt\r\n"
   ]
  },
  {
   "cell_type": "markdown",
   "metadata": {},
   "source": [
    "## Prepare Data"
   ]
  },
  {
   "cell_type": "code",
   "execution_count": null,
   "metadata": {},
   "outputs": [],
   "source": [
    "df = t.get_music_df()"
   ]
  },
  {
   "cell_type": "code",
   "execution_count": null,
   "metadata": {},
   "outputs": [],
   "source": [
    "plot_list = []"
   ]
  },
  {
   "cell_type": "code",
   "execution_count": null,
   "metadata": {},
   "outputs": [],
   "source": [
    "y_original = df[\"popularity\"]\r\n",
    "y_classes = df[\"popularity\"].apply(t.encode_popularity)\r\n",
    "X = df.drop(\"popularity\", axis=1)"
   ]
  },
  {
   "cell_type": "markdown",
   "metadata": {},
   "source": [
    "## Distribution of Popularity"
   ]
  },
  {
   "cell_type": "code",
   "execution_count": null,
   "metadata": {},
   "outputs": [],
   "source": [
    "# RUS sampled and encoded popularity\r\n",
    "X_1, y_1 = RandomUnderSampler(random_state=42).fit_resample(X, y_classes)\r\n",
    "\r\n",
    "# Include: Unsampled raw / encoded and RUS encoded popularity\r\n",
    "plot_list.extend([\r\n",
    "    (plt.bar, {\"x\": list(set(y_classes)), \"height\": pp.count_distribution(y_classes)},\r\n",
    "    \"popularity\", \"count\", \"Distribution of Popularity classes\"),\r\n",
    "    (plt.bar, {\"x\": list(set(y_original)), \"height\": pp.count_distribution(y_original)},\r\n",
    "    \"popularity\", \"count\", \"Distribution of Popularity raw\"),\r\n",
    "    (plt.bar, {\"x\": list(set(y_1)), \"height\": pp.count_distribution(y_1)},\r\n",
    "    \"popularity\", \"count\", \"Distribution of Popularity classes with RUS\")]\r\n",
    ")"
   ]
  },
  {
   "cell_type": "markdown",
   "metadata": {},
   "source": [
    "## Features vs. Popularity"
   ]
  },
  {
   "cell_type": "code",
   "execution_count": null,
   "metadata": {},
   "outputs": [],
   "source": [
    "# Add each feature plot to list\r\n",
    "for name, values in pd.DataFrame(X).items():\r\n",
    "    plot_list.extend(\r\n",
    "        [\r\n",
    "        # (plt.scatter, {\"x\": values, \"y\": y_classes},\r\n",
    "        # name, \"encoded popularity\", f\"Distribution of {name}\"),\r\n",
    "        (plt.scatter, {\"x\": values, \"y\": y_original},\r\n",
    "        name, \"popularity\", f\"Distribution of {name}\")\r\n",
    "        ]\r\n",
    "    )"
   ]
  },
  {
   "cell_type": "markdown",
   "metadata": {},
   "source": [
    "## Generate Plots"
   ]
  },
  {
   "cell_type": "code",
   "execution_count": null,
   "metadata": {},
   "outputs": [],
   "source": [
    "print(\"Num plots\", len(plot_list))\r\n",
    "p.plots_from_list(\"Analysis of popularity regarding all features.\",\r\n",
    "    plot_list, \"Popularity Analysis\", save=True, model_type=\"all\")"
   ]
  }
 ],
 "metadata": {
  "interpreter": {
   "hash": "79c01d956d8d580ff50d5e99a3a6d3d709ffed313f15b1c7fdf81c9e53683cc0"
  },
  "kernelspec": {
   "display_name": "Python 3.8.7 64-bit ('venv': venv)",
   "name": "python3"
  },
  "language_info": {
   "codemirror_mode": {
    "name": "ipython",
    "version": 3
   },
   "file_extension": ".py",
   "mimetype": "text/x-python",
   "name": "python",
   "nbconvert_exporter": "python",
   "pygments_lexer": "ipython3",
   "version": "3.8.7"
  },
  "orig_nbformat": 4
 },
 "nbformat": 4,
 "nbformat_minor": 2
}