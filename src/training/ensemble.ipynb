{
 "cells": [
  {
   "cell_type": "markdown",
   "source": [
    "# Imports"
   ],
   "metadata": {}
  },
  {
   "cell_type": "code",
   "execution_count": null,
   "source": [
    "from pathlib import Path\r\n",
    "from dotenv import load_dotenv\r\n",
    "import pandas as pd\r\n",
    "import numpy as np\r\n",
    "import matplotlib.pyplot as plt\r\n",
    "\r\n",
    "load_dotenv()\r\n",
    "\r\n",
    "DATA_PATH = Path(os.getenv(\"DATA_PATH\"))\r\n",
    "\r\n",
    "# only for .ipynb because relative imports don't work\r\n",
    "root_path = (DATA_PATH.parent) \r\n",
    "os.chdir(str(root_path))\r\n",
    "\r\n",
    "import src.training.postprocessing as pp\r\n",
    "import src.training.pre_training as t\r\n",
    "\r\n",
    "from sklearn.metrics import precision_score, accuracy_score\r\n",
    "from imblearn.under_sampling import RandomUnderSampler\r\n",
    "\r\n",
    "# sklearn ensemble\r\n",
    "from sklearn.ensemble import VotingClassifier, RandomForestClassifier\r\n",
    "\r\n",
    "# import models\r\n",
    "from sklearn.naive_bayes import GaussianNB\r\n",
    "from sklearn.neighbors import KNeighborsClassifier\r\n",
    "from sklearn.neural_network import MLPClassifier\r\n",
    "from sklearn.svm import SVC\r\n",
    "from sklearn.tree import DecisionTreeClassifier\r\n",
    "from sklearn.ensemble import RandomForestClassifier"
   ],
   "outputs": [],
   "metadata": {}
  },
  {
   "cell_type": "markdown",
   "source": [
    "# Data preparation and feature assignment"
   ],
   "metadata": {}
  },
  {
   "cell_type": "code",
   "execution_count": null,
   "source": [
    "df_complete = t.get_complete_df()"
   ],
   "outputs": [],
   "metadata": {}
  },
  {
   "cell_type": "markdown",
   "source": [
    "## Encode all features"
   ],
   "metadata": {}
  },
  {
   "cell_type": "code",
   "execution_count": null,
   "source": [
    "df = df_complete.drop(['id', 'name', 'artist_id', 'generation', 'song_id', 'primary_artist_id', 'lyrics_skipped', 'lyrics_stored'], axis=1)\r\n",
    "# print(list(df))\r\n",
    "# print(df)\r\n",
    "\r\n",
    "# Song popularity\r\n",
    "df.iloc[:, 0] = df.iloc[:, 0].apply(t.encode_popularity)\r\n",
    "\r\n",
    "# Artist popularity\r\n",
    "df.iloc[:, -2] = df.iloc[:, -2].apply(t.encode_popularity)\r\n",
    "\r\n",
    "# Artist genres\r\n",
    "df.iloc[:, -1] = df.iloc[:, -1].apply(t.encode_genres)\r\n",
    "\r\n",
    "# print(df)\r\n",
    "\r\n",
    "# TODO Use RUS or plain data?\r\n",
    "df, y = RandomUnderSampler(random_state=42).fit_resample(df.iloc[:, 1:], df.iloc[:, 0])\r\n",
    "print(pp.count_distribution(y))\r\n",
    "\r\n",
    "X_dict = dict()\r\n",
    "y = df.iloc[:, [0]]"
   ],
   "outputs": [],
   "metadata": {}
  },
  {
   "cell_type": "markdown",
   "source": [
    "## Split DataFrame into model types"
   ],
   "metadata": {}
  },
  {
   "cell_type": "code",
   "execution_count": null,
   "source": [
    "df_music = pd.DataFrame(df.values[:, 1:16])\r\n",
    "X_dict['music'] = df_music\r\n",
    "# print(df_music)\r\n",
    "\r\n",
    "df_lyrics = pd.DataFrame(df.values[:, 16:19])\r\n",
    "X_dict['lyrics'] = df_lyrics\r\n",
    "# print(df_lyrics)\r\n",
    "\r\n",
    "df_artist = df[[\"followers\", \"genre_name\"]]\r\n",
    "X_dict['artist'] = df_artist\r\n",
    "# print(df_artist)"
   ],
   "outputs": [],
   "metadata": {}
  },
  {
   "cell_type": "markdown",
   "source": [
    "# Models"
   ],
   "metadata": {}
  },
  {
   "cell_type": "markdown",
   "source": [
    "## Add models into classifier list"
   ],
   "metadata": {}
  },
  {
   "cell_type": "code",
   "execution_count": null,
   "source": [
    "# TODO use better models: check for equal popularity encoding\r\n",
    "lyric_clf = pp.load_model(\"gauss_prec=31\", \"lyrics\")\r\n",
    "artist_clf = pp.load_model(\"rf_size=100_prec=70\", \"artist\")\r\n",
    "music_clf = pp.load_model(\"rf_size=1000_prec=41\", \"music\")\r\n",
    "\r\n",
    "clf_list = [\r\n",
    "    (music_clf, 'music'),\r\n",
    "    (lyric_clf, 'lyrics'),\r\n",
    "    (artist_clf, 'artist'),\r\n",
    "]"
   ],
   "outputs": [],
   "metadata": {}
  },
  {
   "cell_type": "markdown",
   "source": [
    "# Simulate Voting Classifier"
   ],
   "metadata": {}
  },
  {
   "cell_type": "code",
   "execution_count": null,
   "source": [
    "predictions = np.asarray([clf.predict(X_dict[X_type]) for clf, X_type in clf_list])\r\n",
    "print(list(predictions))\r\n",
    "\r\n",
    "weights = [1, 1, 1]\r\n",
    "# pred_avg = np.average(predictions, axis=0, weights=weights).round()\r\n",
    "pred_avg = lyric_clf.predict(X_dict[\"lyrics\"])\r\n",
    "print(pred_avg)\r\n",
    "\r\n",
    "print(\"Weighted accuracy: \" + str(round(accuracy_score(y, pred_avg), 4)))\r\n",
    "print(\"Weighted precision: \" + str(round(precision_score(y, pred_avg, average=\"weighted\"), 4)))"
   ],
   "outputs": [],
   "metadata": {}
  },
  {
   "cell_type": "markdown",
   "source": [
    "# Model Evaluation"
   ],
   "metadata": {}
  },
  {
   "cell_type": "markdown",
   "source": [
    "## Distribution of predicted class"
   ],
   "metadata": {}
  },
  {
   "cell_type": "code",
   "execution_count": null,
   "source": [
    "# Plot distr\r\n",
    "fig = plt.figure(figsize=(5,5))\r\n",
    "ax = fig.add_subplot(111)\r\n",
    "ax.set_title(\"pop distr\")\r\n",
    "ax.set_xlabel(\"popularity\")\r\n",
    "ax.set_ylabel(\"count\")\r\n",
    "\r\n",
    "plt.bar(list(set(pred_avg)), pp.count_distribution(pred_avg))"
   ],
   "outputs": [],
   "metadata": {}
  }
 ],
 "metadata": {
  "orig_nbformat": 4,
  "language_info": {
   "name": "python"
  }
 },
 "nbformat": 4,
 "nbformat_minor": 2
}