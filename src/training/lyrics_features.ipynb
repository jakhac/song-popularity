{
 "cells": [
  {
   "source": [
    "# Lyrics Feature Training Notebook"
   ],
   "cell_type": "markdown",
   "metadata": {}
  },
  {
   "cell_type": "markdown",
   "metadata": {},
   "source": [
    "## Imports"
   ]
  },
  {
   "cell_type": "code",
   "execution_count": 1,
   "metadata": {},
   "outputs": [],
   "source": [
    "import pandas as pd\n",
    "import numpy as np\n",
    "\n",
    "import os\n",
    "import sys\n",
    "from pathlib import Path\n",
    "from dotenv import load_dotenv\n",
    "from typing import List\n",
    "\n",
    "import matplotlib.pyplot as plt\n",
    "# import seaborn as sns TODO requirements.txt\n",
    "\n",
    "from imblearn.under_sampling import RandomUnderSampler\n",
    "from imblearn.over_sampling import RandomOverSampler\n",
    "\n",
    "load_dotenv()\n",
    "\n",
    "DATA_PATH = Path(os.getenv(\"DATA_PATH\"))\n",
    "\n",
    "# only for .ipynb because relative imports don't work\n",
    "root_path = (DATA_PATH.parent) \n",
    "os.chdir(str(root_path))\n",
    " \n",
    "import src.training.plotting as p\n",
    "import src.training.postprocessing as pp\n",
    "import src.training.pre_training as t\n",
    "\n",
    "from sklearn.metrics import plot_confusion_matrix\n",
    "from sklearn.model_selection import train_test_split\n",
    "from sklearn.preprocessing import StandardScaler\n",
    "from sklearn.decomposition import PCA\n",
    "\n",
    "# import models\n",
    "from sklearn.naive_bayes import GaussianNB\n",
    "from sklearn.neighbors import KNeighborsClassifier\n",
    "from sklearn.neural_network import MLPClassifier\n",
    "from sklearn.svm import SVC\n",
    "from sklearn.tree import DecisionTreeClassifier\n",
    "from sklearn.ensemble import RandomForestClassifier"
   ]
  },
  {
   "source": [
    "# Preprocessing"
   ],
   "cell_type": "markdown",
   "metadata": {}
  },
  {
   "cell_type": "markdown",
   "metadata": {},
   "source": [
    "## Load Data"
   ]
  },
  {
   "cell_type": "code",
   "execution_count": null,
   "metadata": {},
   "outputs": [],
   "source": [
    "df = t.get_lyric_df()"
   ]
  },
  {
   "source": [
    "## Split data (X,y)\n",
    "Split data into sample values and sample classes "
   ],
   "cell_type": "markdown",
   "metadata": {}
  },
  {
   "cell_type": "code",
   "execution_count": null,
   "metadata": {
    "tags": []
   },
   "outputs": [],
   "source": [
    "X = df.values[:, :3]\n",
    "y = df[\"popularity\"].apply(lambda x: int(x / 10))"
   ]
  },
  {
   "source": [
    "## Over-/Undersampling"
   ],
   "cell_type": "markdown",
   "metadata": {}
  },
  {
   "cell_type": "code",
   "execution_count": null,
   "metadata": {},
   "outputs": [],
   "source": [
    "# sampled and encoded popularity\n",
    "X, y = RandomUnderSampler(random_state=42).fit_resample(X, y)"
   ]
  },
  {
   "source": [
    "## Train/Test-Split\n",
    "No PCA or feature selection, because only 3 features."
   ],
   "cell_type": "markdown",
   "metadata": {}
  },
  {
   "cell_type": "code",
   "execution_count": null,
   "metadata": {},
   "outputs": [],
   "source": [
    "X_train, X_test, y_train, y_test = train_test_split(\n",
    "    X, y, test_size=0.2, random_state=42\n",
    ")\n",
    "\n",
    "print(X_train.shape)\n",
    "print(X_test.shape)"
   ]
  },
  {
   "source": [
    "# Classification"
   ],
   "cell_type": "markdown",
   "metadata": {}
  },
  {
   "cell_type": "code",
   "execution_count": null,
   "metadata": {},
   "outputs": [],
   "source": [
    "# store classifiers for later plotting\n",
    "clf_list = []"
   ]
  },
  {
   "cell_type": "markdown",
   "metadata": {},
   "source": [
    "## Gaussian Naive Bayes"
   ]
  },
  {
   "cell_type": "code",
   "execution_count": null,
   "metadata": {},
   "outputs": [],
   "source": [
    "gaussian_clf = GaussianNB()\n",
    "\n",
    "# fit the model\n",
    "gaussian_clf.fit(X_train, y_train)\n",
    "clf_list.append(gaussian_clf)\n",
    "\n",
    "pp.print_metrics(gaussian_clf, X_test, y_test)"
   ]
  },
  {
   "cell_type": "markdown",
   "metadata": {},
   "source": [
    "## SVM"
   ]
  },
  {
   "cell_type": "code",
   "execution_count": null,
   "metadata": {},
   "outputs": [],
   "source": [
    "# svc_clf = SVC()\n",
    "\n",
    "# # fit the model\n",
    "# svc_clf.fit(X_train, y_train)\n",
    "# clf_list.append(svc_clf)\n",
    "\n",
    "# pp.print_metrics(svc_clf, X_test, y_test)"
   ]
  },
  {
   "cell_type": "markdown",
   "metadata": {},
   "source": [
    "## Neural Network"
   ]
  },
  {
   "cell_type": "code",
   "execution_count": null,
   "metadata": {},
   "outputs": [],
   "source": [
    "nn_clf = MLPClassifier()\n",
    "\n",
    "# fit the model\n",
    "nn_clf.fit(X_train, y_train)\n",
    "clf_list.append(nn_clf)\n",
    "\n",
    "pp.print_metrics(nn_clf, X_test, y_test)"
   ]
  },
  {
   "cell_type": "markdown",
   "metadata": {},
   "source": [
    "## K-Neighbours Classifier"
   ]
  },
  {
   "cell_type": "code",
   "execution_count": null,
   "metadata": {},
   "outputs": [],
   "source": [
    "knn_clf = KNeighborsClassifier()\n",
    "\n",
    "# fit the model\n",
    "knn_clf.fit(X_train, y_train)\n",
    "clf_list.append(knn_clf)\n",
    "\n",
    "pp.print_metrics(knn_clf, X_test, y_test)"
   ]
  },
  {
   "cell_type": "markdown",
   "metadata": {},
   "source": [
    "## Decision Trees"
   ]
  },
  {
   "cell_type": "code",
   "execution_count": null,
   "metadata": {},
   "outputs": [],
   "source": [
    "dt_clf = DecisionTreeClassifier()\n",
    "\n",
    "# fit the model\n",
    "dt_clf.fit(X_train, y_train)\n",
    "clf_list.append(dt_clf)\n",
    "\n",
    "pp.print_metrics(dt_clf, X_test, y_test)"
   ]
  },
  {
   "cell_type": "markdown",
   "metadata": {},
   "source": [
    "## Random forest"
   ]
  },
  {
   "cell_type": "code",
   "execution_count": null,
   "metadata": {},
   "outputs": [],
   "source": [
    "# use different number of trees in forest \n",
    "forest_size = [10,50,100,250,500,1000]\n",
    "\n",
    "# set seed for random state to get compareable results in every execution (forest randomness)\n",
    "np.random.seed(500)\n",
    "\n",
    "# store rf classifiers additionally because of overwriting\n",
    "rf_clfs = []\n",
    "\n",
    "for trees in forest_size:\n",
    "    # set forest size\n",
    "    print(\"Predicting with forest size \" + str(trees))\n",
    "    rf = RandomForestClassifier(n_estimators=trees)\n",
    "\n",
    "    # fit the model\n",
    "    rf.fit(X_train, y_train)\n",
    "    clf_list.append(rf)\n",
    "\n",
    "    pp.print_metrics(rf, X_test, y_test)\n",
    "    print(\"--------\\n\")"
   ]
  },
  {
   "source": [
    "# Model Evaluation"
   ],
   "cell_type": "markdown",
   "metadata": {}
  },
  {
   "source": [
    "## Metrics + Confusion Matrices"
   ],
   "cell_type": "markdown",
   "metadata": {}
  },
  {
   "cell_type": "code",
   "execution_count": null,
   "metadata": {},
   "outputs": [],
   "source": [
    " # generate list of plots for each clf: metrics, cf_matrix, cf_matrix_norm\n",
    " p_list = p.generate_model_plots(X_test, y_test, clf_list)"
   ]
  },
  {
   "source": [
    "## Save/display plots"
   ],
   "cell_type": "markdown",
   "metadata": {}
  },
  {
   "cell_type": "code",
   "execution_count": null,
   "metadata": {},
   "outputs": [],
   "source": [
    "# params\n",
    "save_plots = False\n",
    "n_cols = 3\n",
    "document_title = \"Random Forest up to 2000 trees\"\n",
    "document_folder = \"all\" # lyrics, model, artist, all\n",
    "\n",
    "# save/display plots as jpg\n",
    "p.plots_from_list(document_title, p_list, document_folder, cols=n_cols, save=save_plots)"
   ]
  },
  {
   "source": [
    "## Confusion Matrix for Single Classifier"
   ],
   "cell_type": "markdown",
   "metadata": {}
  },
  {
   "cell_type": "code",
   "execution_count": null,
   "metadata": {},
   "outputs": [],
   "source": [
    "# assign single classifier\n",
    "cf_clf = None\n",
    "normalized = \"true\" # \"true\", \"all\" or None\n",
    "\n",
    "# Confusion matrix\n",
    "fig, cax = plt.subplots(figsize=(16, 16)) # subplot for larger size\n",
    "cax.set_title(str(cf_clf), fontsize=15)\n",
    "plot_confusion_matrix(estimator=cf_clf, X=X_test, y_true=y_test, cmap=plt.cm.Blues,normalize=normalized,values_format=\".2f\",ax=cax)\n",
    "\n",
    "plt.show()"
   ]
  },
  {
   "source": [
    "## Scatter Plot"
   ],
   "cell_type": "markdown",
   "metadata": {}
  },
  {
   "cell_type": "code",
   "execution_count": null,
   "metadata": {},
   "outputs": [],
   "source": [
    "# Params\n",
    "sct_title = \"Title\"\n",
    "sct_x = None\n",
    "sct_xlabel = \"x-label\"\n",
    "sct_y = None\n",
    "sct_ylabel = \"y-label\"\n",
    "\n",
    "# show scatter plot\n",
    "plt.title(sct_title)\n",
    "plt.xlabel(sct_x)\n",
    "plt.ylabel(sct_y)\n",
    "plt.scatter(sct_x, sct_y, s=5, alpha=0.5)\n",
    "plt.show()\n",
    "\n",
    "# add scatter plot to plot list\n",
    "p_list.append((plt.scatter, {\"x\": sct_x, \"y\": sct_y, \"s\": 5, \"alpha\": 0.5}, sct_title, sct_xlabel, sct_ylabel))"
   ]
  },
  {
   "source": [
    "## Bar Plot"
   ],
   "cell_type": "markdown",
   "metadata": {}
  },
  {
   "cell_type": "code",
   "execution_count": null,
   "metadata": {},
   "outputs": [],
   "source": [
    "# Params\n",
    "bar_title = \"Title\"\n",
    "bar_x = None\n",
    "bar_xlabel = \"x-label\"\n",
    "bar_height = None\n",
    "bar_ylabel = \"y-label\"\n",
    "\n",
    "# show bar plot\n",
    "plt.title(sct_title)\n",
    "plt.xlabel(sct_x)\n",
    "plt.ylabel(sct_y)\n",
    "plt.bar(sct_x, sct_y)\n",
    "plt.show()\n",
    "\n",
    "# add bar plot to plot list\n",
    "p_list.append((plt.bar, {\"x\": bar_x, \"height\": bar_height}, bar_title, bar_xlabel, bar_ylabel))"
   ]
  }
 ],
 "metadata": {
  "interpreter": {
   "hash": "2b3eb31ce1614becdc450ec2390d8c8042f24cf7f310c376c5598f4b488704d2"
  },
  "language_info": {
   "codemirror_mode": {
    "name": "ipython",
    "version": 3
   },
   "file_extension": ".py",
   "mimetype": "text/x-python",
   "name": "python",
   "nbconvert_exporter": "python",
   "pygments_lexer": "ipython3",
   "version": "3.8.3"
  },
  "orig_nbformat": 4,
  "kernelspec": {
   "name": "python3",
   "display_name": "Python 3.8.3 64-bit ('venv': venv)"
  }
 },
 "nbformat": 4,
 "nbformat_minor": 2
}